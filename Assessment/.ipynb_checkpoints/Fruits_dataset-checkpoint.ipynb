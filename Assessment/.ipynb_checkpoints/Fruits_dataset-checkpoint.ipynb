{
 "cells": [
  {
   "cell_type": "code",
   "execution_count": 1,
   "id": "e3cdd05d-ce84-4893-9ba4-9a6680153d8a",
   "metadata": {},
   "outputs": [
    {
     "name": "stderr",
     "output_type": "stream",
     "text": [
      "2024-12-07 15:08:33.118079: I tensorflow/core/util/port.cc:110] oneDNN custom operations are on. You may see slightly different numerical results due to floating-point round-off errors from different computation orders. To turn them off, set the environment variable `TF_ENABLE_ONEDNN_OPTS=0`.\n",
      "2024-12-07 15:08:33.141641: I tensorflow/core/platform/cpu_feature_guard.cc:182] This TensorFlow binary is optimized to use available CPU instructions in performance-critical operations.\n",
      "To enable the following instructions: AVX2 AVX_VNNI FMA, in other operations, rebuild TensorFlow with the appropriate compiler flags.\n",
      "2024-12-07 15:08:33.557719: W tensorflow/compiler/tf2tensorrt/utils/py_utils.cc:38] TF-TRT Warning: Could not find TensorRT\n"
     ]
    }
   ],
   "source": [
    "from tensorflow.keras.layers import Dense,Input,Flatten,Dropout,Conv2D,MaxPooling2D\n",
    "from tensorflow.keras.models import Sequential\n",
    "from tensorflow.keras.utils import image_dataset_from_directory\n",
    "import pandas as pd\n",
    "import numpy as np\n",
    "import seaborn as sns\n",
    "from tensorflow import keras\n",
    "import matplotlib.pyplot as plt\n",
    "from tensorflow.keras.optimizers import Adam\n",
    "from sklearn.metrics import classification_report,confusion_matrix"
   ]
  },
  {
   "cell_type": "code",
   "execution_count": 2,
   "id": "e8d367ef-4adc-4e8b-b99a-66c9d8214e46",
   "metadata": {},
   "outputs": [
    {
     "data": {
      "text/plain": [
       "'/home/mca/Mid-Sem'"
      ]
     },
     "execution_count": 2,
     "metadata": {},
     "output_type": "execute_result"
    }
   ],
   "source": [
    "pwd\n"
   ]
  },
  {
   "cell_type": "code",
   "execution_count": 3,
   "id": "9d96f0d2-4ce6-4238-8adc-0430a7260833",
   "metadata": {},
   "outputs": [
    {
     "name": "stdout",
     "output_type": "stream",
     "text": [
      "Found 9700 files belonging to 5 classes.\n"
     ]
    },
    {
     "name": "stderr",
     "output_type": "stream",
     "text": [
      "2024-12-07 15:08:36.206743: I tensorflow/compiler/xla/stream_executor/cuda/cuda_gpu_executor.cc:995] successful NUMA node read from SysFS had negative value (-1), but there must be at least one NUMA node, so returning NUMA node zero. See more at https://github.com/torvalds/linux/blob/v6.0/Documentation/ABI/testing/sysfs-bus-pci#L344-L355\n",
      "2024-12-07 15:08:36.221025: I tensorflow/compiler/xla/stream_executor/cuda/cuda_gpu_executor.cc:995] successful NUMA node read from SysFS had negative value (-1), but there must be at least one NUMA node, so returning NUMA node zero. See more at https://github.com/torvalds/linux/blob/v6.0/Documentation/ABI/testing/sysfs-bus-pci#L344-L355\n",
      "2024-12-07 15:08:36.221182: I tensorflow/compiler/xla/stream_executor/cuda/cuda_gpu_executor.cc:995] successful NUMA node read from SysFS had negative value (-1), but there must be at least one NUMA node, so returning NUMA node zero. See more at https://github.com/torvalds/linux/blob/v6.0/Documentation/ABI/testing/sysfs-bus-pci#L344-L355\n",
      "2024-12-07 15:08:36.222009: I tensorflow/compiler/xla/stream_executor/cuda/cuda_gpu_executor.cc:995] successful NUMA node read from SysFS had negative value (-1), but there must be at least one NUMA node, so returning NUMA node zero. See more at https://github.com/torvalds/linux/blob/v6.0/Documentation/ABI/testing/sysfs-bus-pci#L344-L355\n",
      "2024-12-07 15:08:36.222100: I tensorflow/compiler/xla/stream_executor/cuda/cuda_gpu_executor.cc:995] successful NUMA node read from SysFS had negative value (-1), but there must be at least one NUMA node, so returning NUMA node zero. See more at https://github.com/torvalds/linux/blob/v6.0/Documentation/ABI/testing/sysfs-bus-pci#L344-L355\n",
      "2024-12-07 15:08:36.222167: I tensorflow/compiler/xla/stream_executor/cuda/cuda_gpu_executor.cc:995] successful NUMA node read from SysFS had negative value (-1), but there must be at least one NUMA node, so returning NUMA node zero. See more at https://github.com/torvalds/linux/blob/v6.0/Documentation/ABI/testing/sysfs-bus-pci#L344-L355\n",
      "2024-12-07 15:08:36.548112: I tensorflow/compiler/xla/stream_executor/cuda/cuda_gpu_executor.cc:995] successful NUMA node read from SysFS had negative value (-1), but there must be at least one NUMA node, so returning NUMA node zero. See more at https://github.com/torvalds/linux/blob/v6.0/Documentation/ABI/testing/sysfs-bus-pci#L344-L355\n",
      "2024-12-07 15:08:36.548249: I tensorflow/compiler/xla/stream_executor/cuda/cuda_gpu_executor.cc:995] successful NUMA node read from SysFS had negative value (-1), but there must be at least one NUMA node, so returning NUMA node zero. See more at https://github.com/torvalds/linux/blob/v6.0/Documentation/ABI/testing/sysfs-bus-pci#L344-L355\n",
      "2024-12-07 15:08:36.548317: I tensorflow/compiler/xla/stream_executor/cuda/cuda_gpu_executor.cc:995] successful NUMA node read from SysFS had negative value (-1), but there must be at least one NUMA node, so returning NUMA node zero. See more at https://github.com/torvalds/linux/blob/v6.0/Documentation/ABI/testing/sysfs-bus-pci#L344-L355\n",
      "2024-12-07 15:08:36.548379: I tensorflow/core/common_runtime/gpu/gpu_device.cc:1639] Created device /job:localhost/replica:0/task:0/device:GPU:0 with 4412 MB memory:  -> device: 0, name: NVIDIA GeForce GTX 1660 Ti, pci bus id: 0000:01:00.0, compute capability: 7.5\n"
     ]
    }
   ],
   "source": [
    "train_ds=image_dataset_from_directory(\n",
    "    directory='/home/mca/Mid-Sem/Fruits/Fruits Classification/train',labels='inferred',image_size=(150,150),seed=50,label_mode='categorical',batch_size=32\n",
    "\n",
    ")"
   ]
  },
  {
   "cell_type": "code",
   "execution_count": 4,
   "id": "65f6ac22-f01a-407d-8ec9-9676dba48767",
   "metadata": {},
   "outputs": [
    {
     "name": "stdout",
     "output_type": "stream",
     "text": [
      "Found 200 files belonging to 5 classes.\n"
     ]
    }
   ],
   "source": [
    "valid_ds=image_dataset_from_directory(\n",
    "    directory='/home/mca/Mid-Sem/Fruits/Fruits Classification/valid',\n",
    "    labels='inferred',\n",
    "    image_size=(150,150),seed=50,label_mode='categorical',batch_size=32\n",
    "\n",
    ")"
   ]
  },
  {
   "cell_type": "code",
   "execution_count": 5,
   "id": "9974f840-1a13-427a-9ce2-223408b799f2",
   "metadata": {},
   "outputs": [
    {
     "name": "stdout",
     "output_type": "stream",
     "text": [
      "Found 200 files belonging to 5 classes.\n"
     ]
    }
   ],
   "source": [
    "test_ds=image_dataset_from_directory(\n",
    "    directory='/home/mca/Mid-Sem/Fruits/Fruits Classification/valid',labels='inferred',image_size=(150,150),seed=50,label_mode='categorical',batch_size=32\n",
    "\n",
    ")"
   ]
  },
  {
   "cell_type": "code",
   "execution_count": 6,
   "id": "e1842b5a-3256-4547-ba81-9b4201aeb2c6",
   "metadata": {},
   "outputs": [
    {
     "data": {
      "text/plain": [
       "72.5"
      ]
     },
     "execution_count": 6,
     "metadata": {},
     "output_type": "execute_result"
    }
   ],
   "source": [
    "(146-1)/2\n"
   ]
  },
  {
   "cell_type": "code",
   "execution_count": 7,
   "id": "46ef82e8-8193-41a0-b129-b2c9e1b34086",
   "metadata": {},
   "outputs": [
    {
     "data": {
      "text/plain": [
       "9.0"
      ]
     },
     "execution_count": 7,
     "metadata": {},
     "output_type": "execute_result"
    }
   ],
   "source": [
    "(18464/32-1)/64\n",
    "\n"
   ]
  },
  {
   "cell_type": "code",
   "execution_count": 8,
   "id": "716d67ac-3f71-4373-a2aa-c744b998d0fc",
   "metadata": {},
   "outputs": [
    {
     "data": {
      "text/plain": [
       "35.5"
      ]
     },
     "execution_count": 8,
     "metadata": {},
     "output_type": "execute_result"
    }
   ],
   "source": [
    "(73-2)/2 "
   ]
  },
  {
   "cell_type": "code",
   "execution_count": 14,
   "id": "6f3113dc-0643-4630-8e7e-21c70ba8a303",
   "metadata": {},
   "outputs": [],
   "source": [
    "cnn= Sequential(\n",
    "    [Input(shape=(150,150,3),name='Input_layer'),\n",
    "     keras.layers.Rescaling(1./255),\n",
    "    Conv2D(64,kernel_size=(5,5),activation='relu',name='Conv2d_14'),\n",
    "    MaxPooling2D(pool_size=(1,1),strides=(2,2),name='Maxpooling2d_14'),\n",
    "    Conv2D(32,kernel_size=(3,3),activation='relu',padding='same',name='Conv2D_15'),\n",
    "    MaxPooling2D(pool_size=(2,2),strides=(2,2),name='MaxPooling2d_15'),\n",
    "    Flatten(),\n",
    "    Dense(32,activation='relu',name='desnse_13'),\n",
    "    Dense(5,activation='softmax',name='Output_layer')]\n",
    ")"
   ]
  },
  {
   "cell_type": "code",
   "execution_count": 15,
   "id": "a8c4dadf-6ca0-4c4d-b964-1013c228a973",
   "metadata": {},
   "outputs": [
    {
     "name": "stdout",
     "output_type": "stream",
     "text": [
      "Model: \"sequential_1\"\n",
      "_________________________________________________________________\n",
      " Layer (type)                Output Shape              Param #   \n",
      "=================================================================\n",
      " rescaling_1 (Rescaling)     (None, 150, 150, 3)       0         \n",
      "                                                                 \n",
      " Conv2d_14 (Conv2D)          (None, 146, 146, 64)      4864      \n",
      "                                                                 \n",
      " Maxpooling2d_14 (MaxPoolin  (None, 73, 73, 64)        0         \n",
      " g2D)                                                            \n",
      "                                                                 \n",
      " Conv2D_15 (Conv2D)          (None, 73, 73, 32)        18464     \n",
      "                                                                 \n",
      " MaxPooling2d_15 (MaxPoolin  (None, 36, 36, 32)        0         \n",
      " g2D)                                                            \n",
      "                                                                 \n",
      " flatten_1 (Flatten)         (None, 41472)             0         \n",
      "                                                                 \n",
      " desnse_13 (Dense)           (None, 32)                1327136   \n",
      "                                                                 \n",
      " dropout (Dropout)           (None, 32)                0         \n",
      "                                                                 \n",
      " Output_layer (Dense)        (None, 5)                 165       \n",
      "                                                                 \n",
      "=================================================================\n",
      "Total params: 1350629 (5.15 MB)\n",
      "Trainable params: 1350629 (5.15 MB)\n",
      "Non-trainable params: 0 (0.00 Byte)\n",
      "_________________________________________________________________\n"
     ]
    }
   ],
   "source": [
    "cnn.summary()"
   ]
  },
  {
   "cell_type": "code",
   "execution_count": 20,
   "id": "432329c3-91ed-4862-863e-f6ffdd2595e0",
   "metadata": {},
   "outputs": [],
   "source": [
    "cnn.compile(optimizer=Adam(0.1),loss='categorical_crossentropy',metrics=['accuracy'])"
   ]
  },
  {
   "cell_type": "code",
   "execution_count": 21,
   "id": "e3165511-1d92-44b3-a13a-5de7ad657d08",
   "metadata": {
    "scrolled": true
   },
   "outputs": [
    {
     "name": "stdout",
     "output_type": "stream",
     "text": [
      "Epoch 1/10\n",
      "304/304 [==============================] - 7s 21ms/step - loss: 1.6207 - accuracy: 0.1991 - val_loss: 1.6124 - val_accuracy: 0.2000\n",
      "Epoch 2/10\n",
      "304/304 [==============================] - 6s 21ms/step - loss: 1.6163 - accuracy: 0.1958 - val_loss: 1.6132 - val_accuracy: 0.2000\n",
      "Epoch 3/10\n",
      "304/304 [==============================] - 6s 21ms/step - loss: 1.6190 - accuracy: 0.2040 - val_loss: 1.6194 - val_accuracy: 0.2000\n",
      "Epoch 4/10\n",
      "304/304 [==============================] - 6s 21ms/step - loss: 1.6182 - accuracy: 0.1987 - val_loss: 1.6199 - val_accuracy: 0.2000\n",
      "Epoch 5/10\n",
      "304/304 [==============================] - 6s 21ms/step - loss: 1.6189 - accuracy: 0.1984 - val_loss: 1.6165 - val_accuracy: 0.2000\n",
      "Epoch 6/10\n",
      "304/304 [==============================] - 6s 21ms/step - loss: 1.6172 - accuracy: 0.2021 - val_loss: 1.6105 - val_accuracy: 0.2000\n",
      "Epoch 7/10\n",
      "304/304 [==============================] - 6s 20ms/step - loss: 1.6176 - accuracy: 0.2006 - val_loss: 1.6276 - val_accuracy: 0.2000\n",
      "Epoch 8/10\n",
      "304/304 [==============================] - 6s 20ms/step - loss: 1.6164 - accuracy: 0.2001 - val_loss: 1.6166 - val_accuracy: 0.2000\n",
      "Epoch 9/10\n",
      "304/304 [==============================] - 6s 20ms/step - loss: 1.6184 - accuracy: 0.1984 - val_loss: 1.6255 - val_accuracy: 0.2000\n",
      "Epoch 10/10\n",
      "304/304 [==============================] - 6s 21ms/step - loss: 1.6180 - accuracy: 0.2024 - val_loss: 1.6166 - val_accuracy: 0.2000\n"
     ]
    }
   ],
   "source": [
    "his1=cnn.fit(train_ds,validation_data=valid_ds,epochs=50)"
   ]
  },
  {
   "cell_type": "code",
   "execution_count": 22,
   "id": "ec35b2cf-8fb9-456a-a21b-9957f17bd5f6",
   "metadata": {},
   "outputs": [
    {
     "name": "stdout",
     "output_type": "stream",
     "text": [
      "7/7 [==============================] - 0s 7ms/step - loss: 1.6166 - accuracy: 0.2000\n"
     ]
    },
    {
     "data": {
      "text/plain": [
       "[1.6166363954544067, 0.20000000298023224]"
      ]
     },
     "execution_count": 22,
     "metadata": {},
     "output_type": "execute_result"
    }
   ],
   "source": [
    "cnn.evaluate(test_ds)"
   ]
  },
  {
   "cell_type": "code",
   "execution_count": 24,
   "id": "afb507b9-75af-4ba8-aa6d-d30d3dde92bc",
   "metadata": {},
   "outputs": [
    {
     "data": {
      "image/png": "[encoded data removed]",
      "text/plain": [
       "<Figure size 640x480 with 1 Axes>"
      ]
     },
     "metadata": {},
     "output_type": "display_data"
    },
    {
     "data": {
      "image/png": "[encoded data removed]",
      "text/plain": [
       "<Figure size 640x480 with 1 Axes>"
      ]
     },
     "metadata": {},
     "output_type": "display_data"
    }
   ],
   "source": [
    "plt.plot(his1.history['loss'],label='Training Loss')\n",
    "plt.plot(his1.history['val_loss'],label='VAlidation Loss')\n",
    "plt.legend()\n",
    "plt.show()\n",
    "\n",
    "plt.plot(his1.history['accuracy'],label='Training Accuracy')\n",
    "plt.plot(his1.history['val_accuracy'],label='VAlidation Accuracy')\n",
    "plt.legend()\n",
    "plt.show()"
   ]
  },
  {
   "cell_type": "code",
   "execution_count": 54,
   "id": "68a6a476-f40a-47a6-bdf8-1720c8502f73",
   "metadata": {},
   "outputs": [
    {
     "name": "stdout",
     "output_type": "stream",
     "text": [
      "7/7 [==============================] - 0s 6ms/step\n"
     ]
    }
   ],
   "source": [
    "y_pred1=cnn.predict(test_ds)"
   ]
  },
  {
   "cell_type": "code",
   "execution_count": 55,
   "id": "cd5c1e51-7ba3-4982-a2a6-461c66da5232",
   "metadata": {},
   "outputs": [
    {
     "data": {
      "text/plain": [
       "array([[0.2573784 , 0.171212  , 0.19666235, 0.1842196 , 0.19052763],\n",
       "       [0.2573784 , 0.171212  , 0.19666235, 0.1842196 , 0.19052763],\n",
       "       [0.2573784 , 0.171212  , 0.19666235, 0.1842196 , 0.19052763],\n",
       "       [0.2573784 , 0.171212  , 0.19666235, 0.1842196 , 0.19052763],\n",
       "       [0.2573784 , 0.171212  , 0.19666235, 0.1842196 , 0.19052763],\n",
       "       [0.2573784 , 0.171212  , 0.19666235, 0.1842196 , 0.19052763],\n",
       "       [0.2573784 , 0.171212  , 0.19666235, 0.1842196 , 0.19052763],\n",
       "       [0.2573784 , 0.171212  , 0.19666235, 0.1842196 , 0.19052763],\n",
       "       [0.2573784 , 0.171212  , 0.19666235, 0.1842196 , 0.19052763],\n",
       "       [0.2573784 , 0.171212  , 0.19666235, 0.1842196 , 0.19052763],\n",
       "       [0.2573784 , 0.171212  , 0.19666235, 0.1842196 , 0.19052763],\n",
       "       [0.2573784 , 0.171212  , 0.19666235, 0.1842196 , 0.19052763],\n",
       "       [0.2573784 , 0.171212  , 0.19666235, 0.1842196 , 0.19052763],\n",
       "       [0.2573784 , 0.171212  , 0.19666235, 0.1842196 , 0.19052763],\n",
       "       [0.2573784 , 0.171212  , 0.19666235, 0.1842196 , 0.19052763],\n",
       "       [0.2573784 , 0.171212  , 0.19666235, 0.1842196 , 0.19052763],\n",
       "       [0.2573784 , 0.171212  , 0.19666235, 0.1842196 , 0.19052763],\n",
       "       [0.2573784 , 0.171212  , 0.19666235, 0.1842196 , 0.19052763],\n",
       "       [0.2573784 , 0.171212  , 0.19666235, 0.1842196 , 0.19052763],\n",
       "       [0.2573784 , 0.171212  , 0.19666235, 0.1842196 , 0.19052763],\n",
       "       [0.2573784 , 0.171212  , 0.19666235, 0.1842196 , 0.19052763],\n",
       "       [0.2573784 , 0.171212  , 0.19666235, 0.1842196 , 0.19052763],\n",
       "       [0.2573784 , 0.171212  , 0.19666235, 0.1842196 , 0.19052763],\n",
       "       [0.2573784 , 0.171212  , 0.19666235, 0.1842196 , 0.19052763],\n",
       "       [0.2573784 , 0.171212  , 0.19666235, 0.1842196 , 0.19052763],\n",
       "       [0.2573784 , 0.171212  , 0.19666235, 0.1842196 , 0.19052763],\n",
       "       [0.2573784 , 0.171212  , 0.19666235, 0.1842196 , 0.19052763],\n",
       "       [0.2573784 , 0.171212  , 0.19666235, 0.1842196 , 0.19052763],\n",
       "       [0.2573784 , 0.171212  , 0.19666235, 0.1842196 , 0.19052763],\n",
       "       [0.2573784 , 0.171212  , 0.19666235, 0.1842196 , 0.19052763],\n",
       "       [0.2573784 , 0.171212  , 0.19666235, 0.1842196 , 0.19052763],\n",
       "       [0.2573784 , 0.171212  , 0.19666235, 0.1842196 , 0.19052763],\n",
       "       [0.2573784 , 0.171212  , 0.19666235, 0.1842196 , 0.19052763],\n",
       "       [0.2573784 , 0.171212  , 0.19666235, 0.1842196 , 0.19052763],\n",
       "       [0.2573784 , 0.171212  , 0.19666235, 0.1842196 , 0.19052763],\n",
       "       [0.2573784 , 0.171212  , 0.19666235, 0.1842196 , 0.19052763],\n",
       "       [0.2573784 , 0.171212  , 0.19666235, 0.1842196 , 0.19052763],\n",
       "       [0.2573784 , 0.171212  , 0.19666235, 0.1842196 , 0.19052763],\n",
       "       [0.2573784 , 0.171212  , 0.19666235, 0.1842196 , 0.19052763],\n",
       "       [0.2573784 , 0.171212  , 0.19666235, 0.1842196 , 0.19052763],\n",
       "       [0.2573784 , 0.171212  , 0.19666235, 0.1842196 , 0.19052763],\n",
       "       [0.2573784 , 0.171212  , 0.19666235, 0.1842196 , 0.19052763],\n",
       "       [0.2573784 , 0.171212  , 0.19666235, 0.1842196 , 0.19052763],\n",
       "       [0.2573784 , 0.171212  , 0.19666235, 0.1842196 , 0.19052763],\n",
       "       [0.2573784 , 0.171212  , 0.19666235, 0.1842196 , 0.19052763],\n",
       "       [0.2573784 , 0.171212  , 0.19666235, 0.1842196 , 0.19052763],\n",
       "       [0.2573784 , 0.171212  , 0.19666235, 0.1842196 , 0.19052763],\n",
       "       [0.2573784 , 0.171212  , 0.19666235, 0.1842196 , 0.19052763],\n",
       "       [0.2573784 , 0.171212  , 0.19666235, 0.1842196 , 0.19052763],\n",
       "       [0.2573784 , 0.171212  , 0.19666235, 0.1842196 , 0.19052763],\n",
       "       [0.2573784 , 0.171212  , 0.19666235, 0.1842196 , 0.19052763],\n",
       "       [0.2573784 , 0.171212  , 0.19666235, 0.1842196 , 0.19052763],\n",
       "       [0.2573784 , 0.171212  , 0.19666235, 0.1842196 , 0.19052763],\n",
       "       [0.2573784 , 0.171212  , 0.19666235, 0.1842196 , 0.19052763],\n",
       "       [0.2573784 , 0.171212  , 0.19666235, 0.1842196 , 0.19052763],\n",
       "       [0.2573784 , 0.171212  , 0.19666235, 0.1842196 , 0.19052763],\n",
       "       [0.2573784 , 0.171212  , 0.19666235, 0.1842196 , 0.19052763],\n",
       "       [0.2573784 , 0.171212  , 0.19666235, 0.1842196 , 0.19052763],\n",
       "       [0.2573784 , 0.171212  , 0.19666235, 0.1842196 , 0.19052763],\n",
       "       [0.2573784 , 0.171212  , 0.19666235, 0.1842196 , 0.19052763],\n",
       "       [0.2573784 , 0.171212  , 0.19666235, 0.1842196 , 0.19052763],\n",
       "       [0.2573784 , 0.171212  , 0.19666235, 0.1842196 , 0.19052763],\n",
       "       [0.2573784 , 0.171212  , 0.19666235, 0.1842196 , 0.19052763],\n",
       "       [0.2573784 , 0.171212  , 0.19666235, 0.1842196 , 0.19052763],\n",
       "       [0.2573784 , 0.171212  , 0.19666235, 0.1842196 , 0.19052763],\n",
       "       [0.2573784 , 0.171212  , 0.19666235, 0.1842196 , 0.19052763],\n",
       "       [0.2573784 , 0.171212  , 0.19666235, 0.1842196 , 0.19052763],\n",
       "       [0.2573784 , 0.171212  , 0.19666235, 0.1842196 , 0.19052763],\n",
       "       [0.2573784 , 0.171212  , 0.19666235, 0.1842196 , 0.19052763],\n",
       "       [0.2573784 , 0.171212  , 0.19666235, 0.1842196 , 0.19052763],\n",
       "       [0.2573784 , 0.171212  , 0.19666235, 0.1842196 , 0.19052763],\n",
       "       [0.2573784 , 0.171212  , 0.19666235, 0.1842196 , 0.19052763],\n",
       "       [0.2573784 , 0.171212  , 0.19666235, 0.1842196 , 0.19052763],\n",
       "       [0.2573784 , 0.171212  , 0.19666235, 0.1842196 , 0.19052763],\n",
       "       [0.2573784 , 0.171212  , 0.19666235, 0.1842196 , 0.19052763],\n",
       "       [0.2573784 , 0.171212  , 0.19666235, 0.1842196 , 0.19052763],\n",
       "       [0.2573784 , 0.171212  , 0.19666235, 0.1842196 , 0.19052763],\n",
       "       [0.2573784 , 0.171212  , 0.19666235, 0.1842196 , 0.19052763],\n",
       "       [0.2573784 , 0.171212  , 0.19666235, 0.1842196 , 0.19052763],\n",
       "       [0.2573784 , 0.171212  , 0.19666235, 0.1842196 , 0.19052763],\n",
       "       [0.2573784 , 0.171212  , 0.19666235, 0.1842196 , 0.19052763],\n",
       "       [0.2573784 , 0.171212  , 0.19666235, 0.1842196 , 0.19052763],\n",
       "       [0.2573784 , 0.171212  , 0.19666235, 0.1842196 , 0.19052763],\n",
       "       [0.2573784 , 0.171212  , 0.19666235, 0.1842196 , 0.19052763],\n",
       "       [0.2573784 , 0.171212  , 0.19666235, 0.1842196 , 0.19052763],\n",
       "       [0.2573784 , 0.171212  , 0.19666235, 0.1842196 , 0.19052763],\n",
       "       [0.2573784 , 0.171212  , 0.19666235, 0.1842196 , 0.19052763],\n",
       "       [0.2573784 , 0.171212  , 0.19666235, 0.1842196 , 0.19052763],\n",
       "       [0.2573784 , 0.171212  , 0.19666235, 0.1842196 , 0.19052763],\n",
       "       [0.2573784 , 0.171212  , 0.19666235, 0.1842196 , 0.19052763],\n",
       "       [0.2573784 , 0.171212  , 0.19666235, 0.1842196 , 0.19052763],\n",
       "       [0.2573784 , 0.171212  , 0.19666235, 0.1842196 , 0.19052763],\n",
       "       [0.2573784 , 0.171212  , 0.19666235, 0.1842196 , 0.19052763],\n",
       "       [0.2573784 , 0.171212  , 0.19666235, 0.1842196 , 0.19052763],\n",
       "       [0.2573784 , 0.171212  , 0.19666235, 0.1842196 , 0.19052763],\n",
       "       [0.2573784 , 0.171212  , 0.19666235, 0.1842196 , 0.19052763],\n",
       "       [0.2573784 , 0.171212  , 0.19666235, 0.1842196 , 0.19052763],\n",
       "       [0.2573784 , 0.171212  , 0.19666235, 0.1842196 , 0.19052763],\n",
       "       [0.2573784 , 0.171212  , 0.19666235, 0.1842196 , 0.19052763],\n",
       "       [0.2573784 , 0.171212  , 0.19666235, 0.1842196 , 0.19052763],\n",
       "       [0.2573784 , 0.171212  , 0.19666235, 0.1842196 , 0.19052763],\n",
       "       [0.2573784 , 0.171212  , 0.19666235, 0.1842196 , 0.19052763],\n",
       "       [0.2573784 , 0.171212  , 0.19666235, 0.1842196 , 0.19052763],\n",
       "       [0.2573784 , 0.171212  , 0.19666235, 0.1842196 , 0.19052763],\n",
       "       [0.2573784 , 0.171212  , 0.19666235, 0.1842196 , 0.19052763],\n",
       "       [0.2573784 , 0.171212  , 0.19666235, 0.1842196 , 0.19052763],\n",
       "       [0.2573784 , 0.171212  , 0.19666235, 0.1842196 , 0.19052763],\n",
       "       [0.2573784 , 0.171212  , 0.19666235, 0.1842196 , 0.19052763],\n",
       "       [0.2573784 , 0.171212  , 0.19666235, 0.1842196 , 0.19052763],\n",
       "       [0.2573784 , 0.171212  , 0.19666235, 0.1842196 , 0.19052763],\n",
       "       [0.2573784 , 0.171212  , 0.19666235, 0.1842196 , 0.19052763],\n",
       "       [0.2573784 , 0.171212  , 0.19666235, 0.1842196 , 0.19052763],\n",
       "       [0.2573784 , 0.171212  , 0.19666235, 0.1842196 , 0.19052763],\n",
       "       [0.2573784 , 0.171212  , 0.19666235, 0.1842196 , 0.19052763],\n",
       "       [0.2573784 , 0.171212  , 0.19666235, 0.1842196 , 0.19052763],\n",
       "       [0.2573784 , 0.171212  , 0.19666235, 0.1842196 , 0.19052763],\n",
       "       [0.2573784 , 0.171212  , 0.19666235, 0.1842196 , 0.19052763],\n",
       "       [0.2573784 , 0.171212  , 0.19666235, 0.1842196 , 0.19052763],\n",
       "       [0.2573784 , 0.171212  , 0.19666235, 0.1842196 , 0.19052763],\n",
       "       [0.2573784 , 0.171212  , 0.19666235, 0.1842196 , 0.19052763],\n",
       "       [0.2573784 , 0.171212  , 0.19666235, 0.1842196 , 0.19052763],\n",
       "       [0.2573784 , 0.171212  , 0.19666235, 0.1842196 , 0.19052763],\n",
       "       [0.2573784 , 0.171212  , 0.19666235, 0.1842196 , 0.19052763],\n",
       "       [0.2573784 , 0.171212  , 0.19666235, 0.1842196 , 0.19052763],\n",
       "       [0.2573784 , 0.171212  , 0.19666235, 0.1842196 , 0.19052763],\n",
       "       [0.2573784 , 0.171212  , 0.19666235, 0.1842196 , 0.19052763],\n",
       "       [0.2573784 , 0.171212  , 0.19666235, 0.1842196 , 0.19052763],\n",
       "       [0.2573784 , 0.171212  , 0.19666235, 0.1842196 , 0.19052763],\n",
       "       [0.2573784 , 0.171212  , 0.19666235, 0.1842196 , 0.19052763],\n",
       "       [0.2573784 , 0.171212  , 0.19666235, 0.1842196 , 0.19052763],\n",
       "       [0.2573784 , 0.171212  , 0.19666235, 0.1842196 , 0.19052763],\n",
       "       [0.2573784 , 0.171212  , 0.19666235, 0.1842196 , 0.19052763],\n",
       "       [0.2573784 , 0.171212  , 0.19666235, 0.1842196 , 0.19052763],\n",
       "       [0.2573784 , 0.171212  , 0.19666235, 0.1842196 , 0.19052763],\n",
       "       [0.2573784 , 0.171212  , 0.19666235, 0.1842196 , 0.19052763],\n",
       "       [0.2573784 , 0.171212  , 0.19666235, 0.1842196 , 0.19052763],\n",
       "       [0.2573784 , 0.171212  , 0.19666235, 0.1842196 , 0.19052763],\n",
       "       [0.2573784 , 0.171212  , 0.19666235, 0.1842196 , 0.19052763],\n",
       "       [0.2573784 , 0.171212  , 0.19666235, 0.1842196 , 0.19052763],\n",
       "       [0.2573784 , 0.171212  , 0.19666235, 0.1842196 , 0.19052763],\n",
       "       [0.2573784 , 0.171212  , 0.19666235, 0.1842196 , 0.19052763],\n",
       "       [0.2573784 , 0.171212  , 0.19666235, 0.1842196 , 0.19052763],\n",
       "       [0.2573784 , 0.171212  , 0.19666235, 0.1842196 , 0.19052763],\n",
       "       [0.2573784 , 0.171212  , 0.19666235, 0.1842196 , 0.19052763],\n",
       "       [0.2573784 , 0.171212  , 0.19666235, 0.1842196 , 0.19052763],\n",
       "       [0.2573784 , 0.171212  , 0.19666235, 0.1842196 , 0.19052763],\n",
       "       [0.2573784 , 0.171212  , 0.19666235, 0.1842196 , 0.19052763],\n",
       "       [0.2573784 , 0.171212  , 0.19666235, 0.1842196 , 0.19052763],\n",
       "       [0.2573784 , 0.171212  , 0.19666235, 0.1842196 , 0.19052763],\n",
       "       [0.2573784 , 0.171212  , 0.19666235, 0.1842196 , 0.19052763],\n",
       "       [0.2573784 , 0.171212  , 0.19666235, 0.1842196 , 0.19052763],\n",
       "       [0.2573784 , 0.171212  , 0.19666235, 0.1842196 , 0.19052763],\n",
       "       [0.2573784 , 0.171212  , 0.19666235, 0.1842196 , 0.19052763],\n",
       "       [0.2573784 , 0.171212  , 0.19666235, 0.1842196 , 0.19052763],\n",
       "       [0.2573784 , 0.171212  , 0.19666235, 0.1842196 , 0.19052763],\n",
       "       [0.2573784 , 0.171212  , 0.19666235, 0.1842196 , 0.19052763],\n",
       "       [0.2573784 , 0.171212  , 0.19666235, 0.1842196 , 0.19052763],\n",
       "       [0.2573784 , 0.171212  , 0.19666235, 0.1842196 , 0.19052763],\n",
       "       [0.2573784 , 0.171212  , 0.19666235, 0.1842196 , 0.19052763],\n",
       "       [0.2573784 , 0.171212  , 0.19666235, 0.1842196 , 0.19052763],\n",
       "       [0.2573784 , 0.171212  , 0.19666235, 0.1842196 , 0.19052763],\n",
       "       [0.2573784 , 0.171212  , 0.19666235, 0.1842196 , 0.19052763],\n",
       "       [0.2573784 , 0.171212  , 0.19666235, 0.1842196 , 0.19052763],\n",
       "       [0.2573784 , 0.171212  , 0.19666235, 0.1842196 , 0.19052763],\n",
       "       [0.2573784 , 0.171212  , 0.19666235, 0.1842196 , 0.19052763],\n",
       "       [0.2573784 , 0.171212  , 0.19666235, 0.1842196 , 0.19052763],\n",
       "       [0.2573784 , 0.171212  , 0.19666235, 0.1842196 , 0.19052763],\n",
       "       [0.2573784 , 0.171212  , 0.19666235, 0.1842196 , 0.19052763],\n",
       "       [0.2573784 , 0.171212  , 0.19666235, 0.1842196 , 0.19052763],\n",
       "       [0.2573784 , 0.171212  , 0.19666235, 0.1842196 , 0.19052763],\n",
       "       [0.2573784 , 0.171212  , 0.19666235, 0.1842196 , 0.19052763],\n",
       "       [0.2573784 , 0.171212  , 0.19666235, 0.1842196 , 0.19052763],\n",
       "       [0.2573784 , 0.171212  , 0.19666235, 0.1842196 , 0.19052763],\n",
       "       [0.2573784 , 0.171212  , 0.19666235, 0.1842196 , 0.19052763],\n",
       "       [0.2573784 , 0.171212  , 0.19666235, 0.1842196 , 0.19052763],\n",
       "       [0.2573784 , 0.171212  , 0.19666235, 0.1842196 , 0.19052763],\n",
       "       [0.2573784 , 0.171212  , 0.19666235, 0.1842196 , 0.19052763],\n",
       "       [0.2573784 , 0.171212  , 0.19666235, 0.1842196 , 0.19052763],\n",
       "       [0.2573784 , 0.171212  , 0.19666235, 0.1842196 , 0.19052763],\n",
       "       [0.2573784 , 0.171212  , 0.19666235, 0.1842196 , 0.19052763],\n",
       "       [0.2573784 , 0.171212  , 0.19666235, 0.1842196 , 0.19052763],\n",
       "       [0.2573784 , 0.171212  , 0.19666235, 0.1842196 , 0.19052763],\n",
       "       [0.2573784 , 0.171212  , 0.19666235, 0.1842196 , 0.19052763],\n",
       "       [0.2573784 , 0.171212  , 0.19666235, 0.1842196 , 0.19052763],\n",
       "       [0.2573784 , 0.171212  , 0.19666235, 0.1842196 , 0.19052763],\n",
       "       [0.2573784 , 0.171212  , 0.19666235, 0.1842196 , 0.19052763],\n",
       "       [0.2573784 , 0.171212  , 0.19666235, 0.1842196 , 0.19052763],\n",
       "       [0.2573784 , 0.171212  , 0.19666235, 0.1842196 , 0.19052763],\n",
       "       [0.2573784 , 0.171212  , 0.19666235, 0.1842196 , 0.19052763],\n",
       "       [0.2573784 , 0.171212  , 0.19666235, 0.1842196 , 0.19052763],\n",
       "       [0.2573784 , 0.171212  , 0.19666235, 0.1842196 , 0.19052763],\n",
       "       [0.2573784 , 0.171212  , 0.19666235, 0.1842196 , 0.19052763],\n",
       "       [0.2573784 , 0.171212  , 0.19666235, 0.1842196 , 0.19052763],\n",
       "       [0.2573784 , 0.171212  , 0.19666235, 0.1842196 , 0.19052763],\n",
       "       [0.2573784 , 0.171212  , 0.19666235, 0.1842196 , 0.19052763],\n",
       "       [0.2573784 , 0.171212  , 0.19666235, 0.1842196 , 0.19052763],\n",
       "       [0.2573784 , 0.171212  , 0.19666235, 0.1842196 , 0.19052763],\n",
       "       [0.2573784 , 0.171212  , 0.19666235, 0.1842196 , 0.19052763],\n",
       "       [0.2573784 , 0.171212  , 0.19666235, 0.1842196 , 0.19052763],\n",
       "       [0.2573784 , 0.171212  , 0.19666235, 0.1842196 , 0.19052763]],\n",
       "      dtype=float32)"
      ]
     },
     "execution_count": 55,
     "metadata": {},
     "output_type": "execute_result"
    }
   ],
   "source": [
    "y_pred1"
   ]
  },
  {
   "cell_type": "code",
   "execution_count": 45,
   "id": "0aceb43b-dc5d-422f-b63d-3080d3144770",
   "metadata": {},
   "outputs": [],
   "source": [
    "y_pred=np.argmax(y_pred1,axis=1)"
   ]
  },
  {
   "cell_type": "code",
   "execution_count": 46,
   "id": "cb400179-6cbc-42d7-9348-4a161ad172e3",
   "metadata": {},
   "outputs": [
    {
     "data": {
      "text/plain": [
       "array([0, 0, 0, 0, 0, 0, 0, 0, 0, 0, 0, 0, 0, 0, 0, 0, 0, 0, 0, 0, 0, 0,\n",
       "       0, 0, 0, 0, 0, 0, 0, 0, 0, 0, 0, 0, 0, 0, 0, 0, 0, 0, 0, 0, 0, 0,\n",
       "       0, 0, 0, 0, 0, 0, 0, 0, 0, 0, 0, 0, 0, 0, 0, 0, 0, 0, 0, 0, 0, 0,\n",
       "       0, 0, 0, 0, 0, 0, 0, 0, 0, 0, 0, 0, 0, 0, 0, 0, 0, 0, 0, 0, 0, 0,\n",
       "       0, 0, 0, 0, 0, 0, 0, 0, 0, 0, 0, 0, 0, 0, 0, 0, 0, 0, 0, 0, 0, 0,\n",
       "       0, 0, 0, 0, 0, 0, 0, 0, 0, 0, 0, 0, 0, 0, 0, 0, 0, 0, 0, 0, 0, 0,\n",
       "       0, 0, 0, 0, 0, 0, 0, 0, 0, 0, 0, 0, 0, 0, 0, 0, 0, 0, 0, 0, 0, 0,\n",
       "       0, 0, 0, 0, 0, 0, 0, 0, 0, 0, 0, 0, 0, 0, 0, 0, 0, 0, 0, 0, 0, 0,\n",
       "       0, 0, 0, 0, 0, 0, 0, 0, 0, 0, 0, 0, 0, 0, 0, 0, 0, 0, 0, 0, 0, 0,\n",
       "       0, 0])"
      ]
     },
     "execution_count": 46,
     "metadata": {},
     "output_type": "execute_result"
    }
   ],
   "source": [
    "y_pred"
   ]
  },
  {
   "cell_type": "code",
   "execution_count": 48,
   "id": "8113e9d9-921a-45dc-83ed-e74df1d9d2c9",
   "metadata": {},
   "outputs": [],
   "source": [
    "y_test=np.concatenate([y for x,y in test_ds],axis=0)\n",
    "y_true=np.argmax(y_test,axis=1)"
   ]
  },
  {
   "cell_type": "code",
   "execution_count": 51,
   "id": "d9a35d11-e70d-4fb3-b1f7-0bf8e430fc86",
   "metadata": {},
   "outputs": [
    {
     "name": "stdout",
     "output_type": "stream",
     "text": [
      "              precision    recall  f1-score   support\n",
      "\n",
      "           0       0.20      1.00      0.33        40\n",
      "           1       0.00      0.00      0.00        40\n",
      "           2       0.00      0.00      0.00        40\n",
      "           3       0.00      0.00      0.00        40\n",
      "           4       0.00      0.00      0.00        40\n",
      "\n",
      "    accuracy                           0.20       200\n",
      "   macro avg       0.04      0.20      0.07       200\n",
      "weighted avg       0.04      0.20      0.07       200\n",
      "\n"
     ]
    },
    {
     "name": "stderr",
     "output_type": "stream",
     "text": [
      "/home/mca/anaconda3/envs/dse/lib/python3.8/site-packages/sklearn/metrics/_classification.py:1471: UndefinedMetricWarning: Precision and F-score are ill-defined and being set to 0.0 in labels with no predicted samples. Use `zero_division` parameter to control this behavior.\n",
      "  _warn_prf(average, modifier, msg_start, len(result))\n",
      "/home/mca/anaconda3/envs/dse/lib/python3.8/site-packages/sklearn/metrics/_classification.py:1471: UndefinedMetricWarning: Precision and F-score are ill-defined and being set to 0.0 in labels with no predicted samples. Use `zero_division` parameter to control this behavior.\n",
      "  _warn_prf(average, modifier, msg_start, len(result))\n",
      "/home/mca/anaconda3/envs/dse/lib/python3.8/site-packages/sklearn/metrics/_classification.py:1471: UndefinedMetricWarning: Precision and F-score are ill-defined and being set to 0.0 in labels with no predicted samples. Use `zero_division` parameter to control this behavior.\n",
      "  _warn_prf(average, modifier, msg_start, len(result))\n"
     ]
    }
   ],
   "source": [
    "cr= classification_report(y_true,y_pred)\n",
    "print(cr)"
   ]
  },
  {
   "cell_type": "code",
   "execution_count": 52,
   "id": "9592481a-bd00-452f-bc40-84caca903005",
   "metadata": {},
   "outputs": [
    {
     "data": {
      "text/plain": [
       "<Axes: >"
      ]
     },
     "execution_count": 52,
     "metadata": {},
     "output_type": "execute_result"
    },
    {
     "data": {
      "image/png": "[encoded data removed]",
      "text/plain": [
       "<Figure size 640x480 with 2 Axes>"
      ]
     },
     "metadata": {},
     "output_type": "display_data"
    }
   ],
   "source": [
    "cm= confusion_matrix(y_true,y_pred)\n",
    "sns.heatmap(cm,annot=True,cmap='coolwarm',fmt='d',xticklabels=['Apple','Banna','Grape','Mango','Strawberry'],yt)"
   ]
  },
  {
   "cell_type": "code",
   "execution_count": null,
   "id": "c65e345b-03c5-47cf-9b2a-ecc9b2c780fe",
   "metadata": {},
   "outputs": [],
   "source": []
  }
 ],
 "metadata": {
  "kernelspec": {
   "display_name": "Python 3 (ipykernel)",
   "language": "python",
   "name": "python3"
  },
  "language_info": {
   "codemirror_mode": {
    "name": "ipython",
    "version": 3
   },
   "file_extension": ".py",
   "mimetype": "text/x-python",
   "name": "python",
   "nbconvert_exporter": "python",
   "pygments_lexer": "ipython3",
   "version": "3.8.19"
  }
 },
 "nbformat": 4,
 "nbformat_minor": 5
}
