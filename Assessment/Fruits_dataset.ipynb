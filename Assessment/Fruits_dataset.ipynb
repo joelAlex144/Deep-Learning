{
 "cells": [
  {
   "cell_type": "code",
   "execution_count": 1,
   "id": "e3cdd05d-ce84-4893-9ba4-9a6680153d8a",
   "metadata": {},
   "outputs": [
    {
     "name": "stderr",
     "output_type": "stream",
     "text": [
      "2024-12-12 00:18:16.903161: I tensorflow/core/util/port.cc:153] oneDNN custom operations are on. You may see slightly different numerical results due to floating-point round-off errors from different computation orders. To turn them off, set the environment variable `TF_ENABLE_ONEDNN_OPTS=0`.\n",
      "2024-12-12 00:18:16.992692: E external/local_xla/xla/stream_executor/cuda/cuda_fft.cc:485] Unable to register cuFFT factory: Attempting to register factory for plugin cuFFT when one has already been registered\n",
      "2024-12-12 00:18:17.053797: E external/local_xla/xla/stream_executor/cuda/cuda_dnn.cc:8454] Unable to register cuDNN factory: Attempting to register factory for plugin cuDNN when one has already been registered\n",
      "2024-12-12 00:18:17.071946: E external/local_xla/xla/stream_executor/cuda/cuda_blas.cc:1452] Unable to register cuBLAS factory: Attempting to register factory for plugin cuBLAS when one has already been registered\n",
      "2024-12-12 00:18:17.149315: I tensorflow/core/platform/cpu_feature_guard.cc:210] This TensorFlow binary is optimized to use available CPU instructions in performance-critical operations.\n",
      "To enable the following instructions: AVX2 AVX512F AVX512_VNNI FMA, in other operations, rebuild TensorFlow with the appropriate compiler flags.\n",
      "2024-12-12 00:18:18.565123: W tensorflow/compiler/tf2tensorrt/utils/py_utils.cc:38] TF-TRT Warning: Could not find TensorRT\n"
     ]
    }
   ],
   "source": [
    "from tensorflow.keras.layers import Dense,Input,Flatten,Dropout,Conv2D,MaxPooling2D\n",
    "from tensorflow.keras.models import Sequential\n",
    "from tensorflow.keras.utils import image_dataset_from_directory\n",
    "import pandas as pd\n",
    "import numpy as np\n",
    "import seaborn as sns\n",
    "from tensorflow import keras\n",
    "import matplotlib.pyplot as plt\n",
    "from tensorflow.keras.optimizers import Adam\n",
    "from sklearn.metrics import classification_report,confusion_matrix"
   ]
  },
  {
   "cell_type": "code",
   "execution_count": 2,
   "id": "e8d367ef-4adc-4e8b-b99a-66c9d8214e46",
   "metadata": {},
   "outputs": [
    {
     "data": {
      "text/plain": [
       "'/mnt/c/Users/91940/projects/dl/Deep Learning/Mid_sem'"
      ]
     },
     "execution_count": 2,
     "metadata": {},
     "output_type": "execute_result"
    }
   ],
   "source": [
    "pwd\n"
   ]
  },
  {
   "cell_type": "code",
   "execution_count": 3,
   "id": "9d96f0d2-4ce6-4238-8adc-0430a7260833",
   "metadata": {},
   "outputs": [
    {
     "name": "stdout",
     "output_type": "stream",
     "text": [
      "Found 9700 files belonging to 5 classes.\n"
     ]
    },
    {
     "name": "stderr",
     "output_type": "stream",
     "text": [
      "WARNING: All log messages before absl::InitializeLog() is called are written to STDERR\n",
      "I0000 00:00:1733942906.073359  239861 cuda_executor.cc:1001] could not open file to read NUMA node: /sys/bus/pci/devices/0000:01:00.0/numa_node\n",
      "Your kernel may have been built without NUMA support.\n",
      "I0000 00:00:1733942906.604847  239861 cuda_executor.cc:1001] could not open file to read NUMA node: /sys/bus/pci/devices/0000:01:00.0/numa_node\n",
      "Your kernel may have been built without NUMA support.\n",
      "I0000 00:00:1733942906.604894  239861 cuda_executor.cc:1001] could not open file to read NUMA node: /sys/bus/pci/devices/0000:01:00.0/numa_node\n",
      "Your kernel may have been built without NUMA support.\n",
      "I0000 00:00:1733942906.609875  239861 cuda_executor.cc:1001] could not open file to read NUMA node: /sys/bus/pci/devices/0000:01:00.0/numa_node\n",
      "Your kernel may have been built without NUMA support.\n",
      "I0000 00:00:1733942906.609968  239861 cuda_executor.cc:1001] could not open file to read NUMA node: /sys/bus/pci/devices/0000:01:00.0/numa_node\n",
      "Your kernel may have been built without NUMA support.\n",
      "I0000 00:00:1733942906.609988  239861 cuda_executor.cc:1001] could not open file to read NUMA node: /sys/bus/pci/devices/0000:01:00.0/numa_node\n",
      "Your kernel may have been built without NUMA support.\n",
      "I0000 00:00:1733942907.111300  239861 cuda_executor.cc:1001] could not open file to read NUMA node: /sys/bus/pci/devices/0000:01:00.0/numa_node\n",
      "Your kernel may have been built without NUMA support.\n",
      "I0000 00:00:1733942907.111460  239861 cuda_executor.cc:1001] could not open file to read NUMA node: /sys/bus/pci/devices/0000:01:00.0/numa_node\n",
      "Your kernel may have been built without NUMA support.\n",
      "2024-12-12 00:18:27.111472: I tensorflow/core/common_runtime/gpu/gpu_device.cc:2112] Could not identify NUMA node of platform GPU id 0, defaulting to 0.  Your kernel may not have been built with NUMA support.\n",
      "I0000 00:00:1733942907.111564  239861 cuda_executor.cc:1001] could not open file to read NUMA node: /sys/bus/pci/devices/0000:01:00.0/numa_node\n",
      "Your kernel may have been built without NUMA support.\n",
      "2024-12-12 00:18:27.111629: I tensorflow/core/common_runtime/gpu/gpu_device.cc:2021] Created device /job:localhost/replica:0/task:0/device:GPU:0 with 3586 MB memory:  -> device: 0, name: NVIDIA GeForce RTX 3060 Laptop GPU, pci bus id: 0000:01:00.0, compute capability: 8.6\n"
     ]
    }
   ],
   "source": [
    "train_ds=image_dataset_from_directory(\n",
    "    directory='/mnt/c/Users/91940/projects/dl/Deep Learning/Mid_sem/Fruits Classification/train',labels='inferred',image_size=(150,150),seed=50,label_mode='categorical',batch_size=32\n",
    "\n",
    ")"
   ]
  },
  {
   "cell_type": "code",
   "execution_count": 4,
   "id": "65f6ac22-f01a-407d-8ec9-9676dba48767",
   "metadata": {},
   "outputs": [
    {
     "name": "stdout",
     "output_type": "stream",
     "text": [
      "Found 200 files belonging to 5 classes.\n"
     ]
    }
   ],
   "source": [
    "valid_ds=image_dataset_from_directory(\n",
    "    directory='/mnt/c/Users/91940/projects/dl/Deep Learning/Mid_sem/Fruits Classification/valid',\n",
    "    labels='inferred',\n",
    "    image_size=(150,150),seed=50,label_mode='categorical',batch_size=32\n",
    "\n",
    ")"
   ]
  },
  {
   "cell_type": "code",
   "execution_count": 5,
   "id": "9974f840-1a13-427a-9ce2-223408b799f2",
   "metadata": {},
   "outputs": [
    {
     "name": "stdout",
     "output_type": "stream",
     "text": [
      "Found 200 files belonging to 5 classes.\n"
     ]
    }
   ],
   "source": [
    "test_ds=image_dataset_from_directory(\n",
    "    directory='/mnt/c/Users/91940/projects/dl/Deep Learning/Mid_sem/Fruits Classification/valid',labels='inferred',image_size=(150,150),seed=50,label_mode='categorical',batch_size=32\n",
    "\n",
    ")"
   ]
  },
  {
   "cell_type": "code",
   "execution_count": 36,
   "id": "6f3113dc-0643-4630-8e7e-21c70ba8a303",
   "metadata": {},
   "outputs": [],
   "source": [
    "cnn= Sequential(\n",
    "    [Input(shape=(150,150,3),name='Input_layer'),\n",
    "     keras.layers.Rescaling(1./255),\n",
    "    Conv2D(64,kernel_size=(5,5),name='Conv2d_14'),\n",
    "    keras.layers.BatchNormalization(),\n",
    "    MaxPooling2D(pool_size=(1,1),strides=(2,2),name='Maxpooling2d_14'),\n",
    "    Conv2D(32,kernel_size=(3,3),padding='same',name='Conv2D_15'),\n",
    "    keras.layers.BatchNormalization(),\n",
    "    MaxPooling2D(pool_size=(2,2),strides=(2,2),name='MaxPooling2d_15'),\n",
    "    Flatten(),\n",
    "    Dense(128,activation='relu',name='desnse_13'),\n",
    "    keras.layers.BatchNormalization(),\n",
    "    Dropout(0.2),\n",
    "    Dense(5,activation='softmax',name='Output_layer')]\n",
    ")"
   ]
  },
  {
   "cell_type": "code",
   "execution_count": 37,
   "id": "a8c4dadf-6ca0-4c4d-b964-1013c228a973",
   "metadata": {},
   "outputs": [
    {
     "data": {
      "text/html": [
       "<pre style=\"white-space:pre;overflow-x:auto;line-height:normal;font-family:Menlo,'DejaVu Sans Mono',consolas,'Courier New',monospace\"><span style=\"font-weight: bold\">Model: \"sequential_4\"</span>\n",
       "</pre>\n"
      ],
      "text/plain": [
       "\u001b[1mModel: \"sequential_4\"\u001b[0m\n"
      ]
     },
     "metadata": {},
     "output_type": "display_data"
    },
    {
     "data": {
      "text/html": [
       "<pre style=\"white-space:pre;overflow-x:auto;line-height:normal;font-family:Menlo,'DejaVu Sans Mono',consolas,'Courier New',monospace\">┏━━━━━━━━━━━━━━━━━━━━━━━━━━━━━━━━━┳━━━━━━━━━━━━━━━━━━━━━━━━┳━━━━━━━━━━━━━━━┓\n",
       "┃<span style=\"font-weight: bold\"> Layer (type)                    </span>┃<span style=\"font-weight: bold\"> Output Shape           </span>┃<span style=\"font-weight: bold\">       Param # </span>┃\n",
       "┡━━━━━━━━━━━━━━━━━━━━━━━━━━━━━━━━━╇━━━━━━━━━━━━━━━━━━━━━━━━╇━━━━━━━━━━━━━━━┩\n",
       "│ rescaling_4 (<span style=\"color: #0087ff; text-decoration-color: #0087ff\">Rescaling</span>)         │ (<span style=\"color: #00d7ff; text-decoration-color: #00d7ff\">None</span>, <span style=\"color: #00af00; text-decoration-color: #00af00\">150</span>, <span style=\"color: #00af00; text-decoration-color: #00af00\">150</span>, <span style=\"color: #00af00; text-decoration-color: #00af00\">3</span>)    │             <span style=\"color: #00af00; text-decoration-color: #00af00\">0</span> │\n",
       "├─────────────────────────────────┼────────────────────────┼───────────────┤\n",
       "│ Conv2d_14 (<span style=\"color: #0087ff; text-decoration-color: #0087ff\">Conv2D</span>)              │ (<span style=\"color: #00d7ff; text-decoration-color: #00d7ff\">None</span>, <span style=\"color: #00af00; text-decoration-color: #00af00\">146</span>, <span style=\"color: #00af00; text-decoration-color: #00af00\">146</span>, <span style=\"color: #00af00; text-decoration-color: #00af00\">64</span>)   │         <span style=\"color: #00af00; text-decoration-color: #00af00\">4,864</span> │\n",
       "├─────────────────────────────────┼────────────────────────┼───────────────┤\n",
       "│ batch_normalization_2           │ (<span style=\"color: #00d7ff; text-decoration-color: #00d7ff\">None</span>, <span style=\"color: #00af00; text-decoration-color: #00af00\">146</span>, <span style=\"color: #00af00; text-decoration-color: #00af00\">146</span>, <span style=\"color: #00af00; text-decoration-color: #00af00\">64</span>)   │           <span style=\"color: #00af00; text-decoration-color: #00af00\">256</span> │\n",
       "│ (<span style=\"color: #0087ff; text-decoration-color: #0087ff\">BatchNormalization</span>)            │                        │               │\n",
       "├─────────────────────────────────┼────────────────────────┼───────────────┤\n",
       "│ Maxpooling2d_14 (<span style=\"color: #0087ff; text-decoration-color: #0087ff\">MaxPooling2D</span>)  │ (<span style=\"color: #00d7ff; text-decoration-color: #00d7ff\">None</span>, <span style=\"color: #00af00; text-decoration-color: #00af00\">73</span>, <span style=\"color: #00af00; text-decoration-color: #00af00\">73</span>, <span style=\"color: #00af00; text-decoration-color: #00af00\">64</span>)     │             <span style=\"color: #00af00; text-decoration-color: #00af00\">0</span> │\n",
       "├─────────────────────────────────┼────────────────────────┼───────────────┤\n",
       "│ Conv2D_15 (<span style=\"color: #0087ff; text-decoration-color: #0087ff\">Conv2D</span>)              │ (<span style=\"color: #00d7ff; text-decoration-color: #00d7ff\">None</span>, <span style=\"color: #00af00; text-decoration-color: #00af00\">73</span>, <span style=\"color: #00af00; text-decoration-color: #00af00\">73</span>, <span style=\"color: #00af00; text-decoration-color: #00af00\">32</span>)     │        <span style=\"color: #00af00; text-decoration-color: #00af00\">18,464</span> │\n",
       "├─────────────────────────────────┼────────────────────────┼───────────────┤\n",
       "│ batch_normalization_3           │ (<span style=\"color: #00d7ff; text-decoration-color: #00d7ff\">None</span>, <span style=\"color: #00af00; text-decoration-color: #00af00\">73</span>, <span style=\"color: #00af00; text-decoration-color: #00af00\">73</span>, <span style=\"color: #00af00; text-decoration-color: #00af00\">32</span>)     │           <span style=\"color: #00af00; text-decoration-color: #00af00\">128</span> │\n",
       "│ (<span style=\"color: #0087ff; text-decoration-color: #0087ff\">BatchNormalization</span>)            │                        │               │\n",
       "├─────────────────────────────────┼────────────────────────┼───────────────┤\n",
       "│ MaxPooling2d_15 (<span style=\"color: #0087ff; text-decoration-color: #0087ff\">MaxPooling2D</span>)  │ (<span style=\"color: #00d7ff; text-decoration-color: #00d7ff\">None</span>, <span style=\"color: #00af00; text-decoration-color: #00af00\">36</span>, <span style=\"color: #00af00; text-decoration-color: #00af00\">36</span>, <span style=\"color: #00af00; text-decoration-color: #00af00\">32</span>)     │             <span style=\"color: #00af00; text-decoration-color: #00af00\">0</span> │\n",
       "├─────────────────────────────────┼────────────────────────┼───────────────┤\n",
       "│ flatten_4 (<span style=\"color: #0087ff; text-decoration-color: #0087ff\">Flatten</span>)             │ (<span style=\"color: #00d7ff; text-decoration-color: #00d7ff\">None</span>, <span style=\"color: #00af00; text-decoration-color: #00af00\">41472</span>)          │             <span style=\"color: #00af00; text-decoration-color: #00af00\">0</span> │\n",
       "├─────────────────────────────────┼────────────────────────┼───────────────┤\n",
       "│ desnse_13 (<span style=\"color: #0087ff; text-decoration-color: #0087ff\">Dense</span>)               │ (<span style=\"color: #00d7ff; text-decoration-color: #00d7ff\">None</span>, <span style=\"color: #00af00; text-decoration-color: #00af00\">128</span>)            │     <span style=\"color: #00af00; text-decoration-color: #00af00\">5,308,544</span> │\n",
       "├─────────────────────────────────┼────────────────────────┼───────────────┤\n",
       "│ batch_normalization_4           │ (<span style=\"color: #00d7ff; text-decoration-color: #00d7ff\">None</span>, <span style=\"color: #00af00; text-decoration-color: #00af00\">128</span>)            │           <span style=\"color: #00af00; text-decoration-color: #00af00\">512</span> │\n",
       "│ (<span style=\"color: #0087ff; text-decoration-color: #0087ff\">BatchNormalization</span>)            │                        │               │\n",
       "├─────────────────────────────────┼────────────────────────┼───────────────┤\n",
       "│ dropout_1 (<span style=\"color: #0087ff; text-decoration-color: #0087ff\">Dropout</span>)             │ (<span style=\"color: #00d7ff; text-decoration-color: #00d7ff\">None</span>, <span style=\"color: #00af00; text-decoration-color: #00af00\">128</span>)            │             <span style=\"color: #00af00; text-decoration-color: #00af00\">0</span> │\n",
       "├─────────────────────────────────┼────────────────────────┼───────────────┤\n",
       "│ Output_layer (<span style=\"color: #0087ff; text-decoration-color: #0087ff\">Dense</span>)            │ (<span style=\"color: #00d7ff; text-decoration-color: #00d7ff\">None</span>, <span style=\"color: #00af00; text-decoration-color: #00af00\">5</span>)              │           <span style=\"color: #00af00; text-decoration-color: #00af00\">645</span> │\n",
       "└─────────────────────────────────┴────────────────────────┴───────────────┘\n",
       "</pre>\n"
      ],
      "text/plain": [
       "┏━━━━━━━━━━━━━━━━━━━━━━━━━━━━━━━━━┳━━━━━━━━━━━━━━━━━━━━━━━━┳━━━━━━━━━━━━━━━┓\n",
       "┃\u001b[1m \u001b[0m\u001b[1mLayer (type)                   \u001b[0m\u001b[1m \u001b[0m┃\u001b[1m \u001b[0m\u001b[1mOutput Shape          \u001b[0m\u001b[1m \u001b[0m┃\u001b[1m \u001b[0m\u001b[1m      Param #\u001b[0m\u001b[1m \u001b[0m┃\n",
       "┡━━━━━━━━━━━━━━━━━━━━━━━━━━━━━━━━━╇━━━━━━━━━━━━━━━━━━━━━━━━╇━━━━━━━━━━━━━━━┩\n",
       "│ rescaling_4 (\u001b[38;5;33mRescaling\u001b[0m)         │ (\u001b[38;5;45mNone\u001b[0m, \u001b[38;5;34m150\u001b[0m, \u001b[38;5;34m150\u001b[0m, \u001b[38;5;34m3\u001b[0m)    │             \u001b[38;5;34m0\u001b[0m │\n",
       "├─────────────────────────────────┼────────────────────────┼───────────────┤\n",
       "│ Conv2d_14 (\u001b[38;5;33mConv2D\u001b[0m)              │ (\u001b[38;5;45mNone\u001b[0m, \u001b[38;5;34m146\u001b[0m, \u001b[38;5;34m146\u001b[0m, \u001b[38;5;34m64\u001b[0m)   │         \u001b[38;5;34m4,864\u001b[0m │\n",
       "├─────────────────────────────────┼────────────────────────┼───────────────┤\n",
       "│ batch_normalization_2           │ (\u001b[38;5;45mNone\u001b[0m, \u001b[38;5;34m146\u001b[0m, \u001b[38;5;34m146\u001b[0m, \u001b[38;5;34m64\u001b[0m)   │           \u001b[38;5;34m256\u001b[0m │\n",
       "│ (\u001b[38;5;33mBatchNormalization\u001b[0m)            │                        │               │\n",
       "├─────────────────────────────────┼────────────────────────┼───────────────┤\n",
       "│ Maxpooling2d_14 (\u001b[38;5;33mMaxPooling2D\u001b[0m)  │ (\u001b[38;5;45mNone\u001b[0m, \u001b[38;5;34m73\u001b[0m, \u001b[38;5;34m73\u001b[0m, \u001b[38;5;34m64\u001b[0m)     │             \u001b[38;5;34m0\u001b[0m │\n",
       "├─────────────────────────────────┼────────────────────────┼───────────────┤\n",
       "│ Conv2D_15 (\u001b[38;5;33mConv2D\u001b[0m)              │ (\u001b[38;5;45mNone\u001b[0m, \u001b[38;5;34m73\u001b[0m, \u001b[38;5;34m73\u001b[0m, \u001b[38;5;34m32\u001b[0m)     │        \u001b[38;5;34m18,464\u001b[0m │\n",
       "├─────────────────────────────────┼────────────────────────┼───────────────┤\n",
       "│ batch_normalization_3           │ (\u001b[38;5;45mNone\u001b[0m, \u001b[38;5;34m73\u001b[0m, \u001b[38;5;34m73\u001b[0m, \u001b[38;5;34m32\u001b[0m)     │           \u001b[38;5;34m128\u001b[0m │\n",
       "│ (\u001b[38;5;33mBatchNormalization\u001b[0m)            │                        │               │\n",
       "├─────────────────────────────────┼────────────────────────┼───────────────┤\n",
       "│ MaxPooling2d_15 (\u001b[38;5;33mMaxPooling2D\u001b[0m)  │ (\u001b[38;5;45mNone\u001b[0m, \u001b[38;5;34m36\u001b[0m, \u001b[38;5;34m36\u001b[0m, \u001b[38;5;34m32\u001b[0m)     │             \u001b[38;5;34m0\u001b[0m │\n",
       "├─────────────────────────────────┼────────────────────────┼───────────────┤\n",
       "│ flatten_4 (\u001b[38;5;33mFlatten\u001b[0m)             │ (\u001b[38;5;45mNone\u001b[0m, \u001b[38;5;34m41472\u001b[0m)          │             \u001b[38;5;34m0\u001b[0m │\n",
       "├─────────────────────────────────┼────────────────────────┼───────────────┤\n",
       "│ desnse_13 (\u001b[38;5;33mDense\u001b[0m)               │ (\u001b[38;5;45mNone\u001b[0m, \u001b[38;5;34m128\u001b[0m)            │     \u001b[38;5;34m5,308,544\u001b[0m │\n",
       "├─────────────────────────────────┼────────────────────────┼───────────────┤\n",
       "│ batch_normalization_4           │ (\u001b[38;5;45mNone\u001b[0m, \u001b[38;5;34m128\u001b[0m)            │           \u001b[38;5;34m512\u001b[0m │\n",
       "│ (\u001b[38;5;33mBatchNormalization\u001b[0m)            │                        │               │\n",
       "├─────────────────────────────────┼────────────────────────┼───────────────┤\n",
       "│ dropout_1 (\u001b[38;5;33mDropout\u001b[0m)             │ (\u001b[38;5;45mNone\u001b[0m, \u001b[38;5;34m128\u001b[0m)            │             \u001b[38;5;34m0\u001b[0m │\n",
       "├─────────────────────────────────┼────────────────────────┼───────────────┤\n",
       "│ Output_layer (\u001b[38;5;33mDense\u001b[0m)            │ (\u001b[38;5;45mNone\u001b[0m, \u001b[38;5;34m5\u001b[0m)              │           \u001b[38;5;34m645\u001b[0m │\n",
       "└─────────────────────────────────┴────────────────────────┴───────────────┘\n"
      ]
     },
     "metadata": {},
     "output_type": "display_data"
    },
    {
     "data": {
      "text/html": [
       "<pre style=\"white-space:pre;overflow-x:auto;line-height:normal;font-family:Menlo,'DejaVu Sans Mono',consolas,'Courier New',monospace\"><span style=\"font-weight: bold\"> Total params: </span><span style=\"color: #00af00; text-decoration-color: #00af00\">5,333,413</span> (20.35 MB)\n",
       "</pre>\n"
      ],
      "text/plain": [
       "\u001b[1m Total params: \u001b[0m\u001b[38;5;34m5,333,413\u001b[0m (20.35 MB)\n"
      ]
     },
     "metadata": {},
     "output_type": "display_data"
    },
    {
     "data": {
      "text/html": [
       "<pre style=\"white-space:pre;overflow-x:auto;line-height:normal;font-family:Menlo,'DejaVu Sans Mono',consolas,'Courier New',monospace\"><span style=\"font-weight: bold\"> Trainable params: </span><span style=\"color: #00af00; text-decoration-color: #00af00\">5,332,965</span> (20.34 MB)\n",
       "</pre>\n"
      ],
      "text/plain": [
       "\u001b[1m Trainable params: \u001b[0m\u001b[38;5;34m5,332,965\u001b[0m (20.34 MB)\n"
      ]
     },
     "metadata": {},
     "output_type": "display_data"
    },
    {
     "data": {
      "text/html": [
       "<pre style=\"white-space:pre;overflow-x:auto;line-height:normal;font-family:Menlo,'DejaVu Sans Mono',consolas,'Courier New',monospace\"><span style=\"font-weight: bold\"> Non-trainable params: </span><span style=\"color: #00af00; text-decoration-color: #00af00\">448</span> (1.75 KB)\n",
       "</pre>\n"
      ],
      "text/plain": [
       "\u001b[1m Non-trainable params: \u001b[0m\u001b[38;5;34m448\u001b[0m (1.75 KB)\n"
      ]
     },
     "metadata": {},
     "output_type": "display_data"
    }
   ],
   "source": [
    "cnn.summary()"
   ]
  },
  {
   "cell_type": "code",
   "execution_count": 38,
   "id": "432329c3-91ed-4862-863e-f6ffdd2595e0",
   "metadata": {},
   "outputs": [],
   "source": [
    "cnn.compile(optimizer=Adam(0.001),loss='categorical_crossentropy',metrics=['accuracy'])"
   ]
  },
  {
   "cell_type": "code",
   "execution_count": 39,
   "id": "e3165511-1d92-44b3-a13a-5de7ad657d08",
   "metadata": {
    "scrolled": true
   },
   "outputs": [
    {
     "name": "stdout",
     "output_type": "stream",
     "text": [
      "Epoch 1/50\n",
      "\u001b[1m304/304\u001b[0m \u001b[32m━━━━━━━━━━━━━━━━━━━━\u001b[0m\u001b[37m\u001b[0m \u001b[1m10s\u001b[0m 24ms/step - accuracy: 0.3977 - loss: 1.6041 - val_accuracy: 0.4250 - val_loss: 1.3392\n",
      "Epoch 2/50\n",
      "\u001b[1m304/304\u001b[0m \u001b[32m━━━━━━━━━━━━━━━━━━━━\u001b[0m\u001b[37m\u001b[0m \u001b[1m6s\u001b[0m 20ms/step - accuracy: 0.5052 - loss: 1.2345 - val_accuracy: 0.4650 - val_loss: 1.2165\n",
      "Epoch 3/50\n",
      "\u001b[1m304/304\u001b[0m \u001b[32m━━━━━━━━━━━━━━━━━━━━\u001b[0m\u001b[37m\u001b[0m \u001b[1m6s\u001b[0m 18ms/step - accuracy: 0.5683 - loss: 1.0803 - val_accuracy: 0.4600 - val_loss: 1.3481\n",
      "Epoch 4/50\n",
      "\u001b[1m304/304\u001b[0m \u001b[32m━━━━━━━━━━━━━━━━━━━━\u001b[0m\u001b[37m\u001b[0m \u001b[1m6s\u001b[0m 19ms/step - accuracy: 0.6298 - loss: 0.9440 - val_accuracy: 0.4300 - val_loss: 1.4143\n",
      "Epoch 5/50\n",
      "\u001b[1m304/304\u001b[0m \u001b[32m━━━━━━━━━━━━━━━━━━━━\u001b[0m\u001b[37m\u001b[0m \u001b[1m6s\u001b[0m 19ms/step - accuracy: 0.7171 - loss: 0.7712 - val_accuracy: 0.4100 - val_loss: 1.6172\n",
      "Epoch 6/50\n",
      "\u001b[1m304/304\u001b[0m \u001b[32m━━━━━━━━━━━━━━━━━━━━\u001b[0m\u001b[37m\u001b[0m \u001b[1m6s\u001b[0m 18ms/step - accuracy: 0.7657 - loss: 0.6486 - val_accuracy: 0.4650 - val_loss: 1.7041\n",
      "Epoch 7/50\n",
      "\u001b[1m304/304\u001b[0m \u001b[32m━━━━━━━━━━━━━━━━━━━━\u001b[0m\u001b[37m\u001b[0m \u001b[1m6s\u001b[0m 19ms/step - accuracy: 0.7443 - loss: 0.6898 - val_accuracy: 0.4600 - val_loss: 1.6651\n",
      "Epoch 8/50\n",
      "\u001b[1m304/304\u001b[0m \u001b[32m━━━━━━━━━━━━━━━━━━━━\u001b[0m\u001b[37m\u001b[0m \u001b[1m6s\u001b[0m 19ms/step - accuracy: 0.8264 - loss: 0.4979 - val_accuracy: 0.4750 - val_loss: 1.5124\n",
      "Epoch 9/50\n",
      "\u001b[1m304/304\u001b[0m \u001b[32m━━━━━━━━━━━━━━━━━━━━\u001b[0m\u001b[37m\u001b[0m \u001b[1m6s\u001b[0m 19ms/step - accuracy: 0.8592 - loss: 0.4153 - val_accuracy: 0.4400 - val_loss: 1.7888\n",
      "Epoch 10/50\n",
      "\u001b[1m304/304\u001b[0m \u001b[32m━━━━━━━━━━━━━━━━━━━━\u001b[0m\u001b[37m\u001b[0m \u001b[1m6s\u001b[0m 20ms/step - accuracy: 0.8886 - loss: 0.3389 - val_accuracy: 0.3750 - val_loss: 3.1620\n",
      "Epoch 11/50\n",
      "\u001b[1m304/304\u001b[0m \u001b[32m━━━━━━━━━━━━━━━━━━━━\u001b[0m\u001b[37m\u001b[0m \u001b[1m6s\u001b[0m 20ms/step - accuracy: 0.8302 - loss: 0.4736 - val_accuracy: 0.4400 - val_loss: 2.4718\n",
      "Epoch 12/50\n",
      "\u001b[1m304/304\u001b[0m \u001b[32m━━━━━━━━━━━━━━━━━━━━\u001b[0m\u001b[37m\u001b[0m \u001b[1m6s\u001b[0m 20ms/step - accuracy: 0.9070 - loss: 0.2900 - val_accuracy: 0.4750 - val_loss: 2.0179\n",
      "Epoch 13/50\n",
      "\u001b[1m304/304\u001b[0m \u001b[32m━━━━━━━━━━━━━━━━━━━━\u001b[0m\u001b[37m\u001b[0m \u001b[1m6s\u001b[0m 20ms/step - accuracy: 0.9527 - loss: 0.1622 - val_accuracy: 0.4600 - val_loss: 2.2057\n",
      "Epoch 14/50\n",
      "\u001b[1m304/304\u001b[0m \u001b[32m━━━━━━━━━━━━━━━━━━━━\u001b[0m\u001b[37m\u001b[0m \u001b[1m6s\u001b[0m 20ms/step - accuracy: 0.9550 - loss: 0.1506 - val_accuracy: 0.5050 - val_loss: 2.3863\n",
      "Epoch 15/50\n",
      "\u001b[1m304/304\u001b[0m \u001b[32m━━━━━━━━━━━━━━━━━━━━\u001b[0m\u001b[37m\u001b[0m \u001b[1m6s\u001b[0m 19ms/step - accuracy: 0.9557 - loss: 0.1402 - val_accuracy: 0.4550 - val_loss: 2.7914\n",
      "Epoch 16/50\n",
      "\u001b[1m304/304\u001b[0m \u001b[32m━━━━━━━━━━━━━━━━━━━━\u001b[0m\u001b[37m\u001b[0m \u001b[1m6s\u001b[0m 19ms/step - accuracy: 0.8603 - loss: 0.4091 - val_accuracy: 0.4600 - val_loss: 2.1304\n",
      "Epoch 17/50\n",
      "\u001b[1m304/304\u001b[0m \u001b[32m━━━━━━━━━━━━━━━━━━━━\u001b[0m\u001b[37m\u001b[0m \u001b[1m6s\u001b[0m 19ms/step - accuracy: 0.9414 - loss: 0.1637 - val_accuracy: 0.4500 - val_loss: 2.4994\n",
      "Epoch 18/50\n",
      "\u001b[1m304/304\u001b[0m \u001b[32m━━━━━━━━━━━━━━━━━━━━\u001b[0m\u001b[37m\u001b[0m \u001b[1m6s\u001b[0m 20ms/step - accuracy: 0.9563 - loss: 0.1331 - val_accuracy: 0.4900 - val_loss: 2.2906\n",
      "Epoch 19/50\n",
      "\u001b[1m304/304\u001b[0m \u001b[32m━━━━━━━━━━━━━━━━━━━━\u001b[0m\u001b[37m\u001b[0m \u001b[1m6s\u001b[0m 20ms/step - accuracy: 0.9564 - loss: 0.1311 - val_accuracy: 0.4550 - val_loss: 2.3871\n",
      "Epoch 20/50\n",
      "\u001b[1m304/304\u001b[0m \u001b[32m━━━━━━━━━━━━━━━━━━━━\u001b[0m\u001b[37m\u001b[0m \u001b[1m6s\u001b[0m 20ms/step - accuracy: 0.9714 - loss: 0.0897 - val_accuracy: 0.4850 - val_loss: 2.5003\n",
      "Epoch 21/50\n",
      "\u001b[1m304/304\u001b[0m \u001b[32m━━━━━━━━━━━━━━━━━━━━\u001b[0m\u001b[37m\u001b[0m \u001b[1m6s\u001b[0m 20ms/step - accuracy: 0.9684 - loss: 0.0985 - val_accuracy: 0.4350 - val_loss: 2.8176\n",
      "Epoch 22/50\n",
      "\u001b[1m304/304\u001b[0m \u001b[32m━━━━━━━━━━━━━━━━━━━━\u001b[0m\u001b[37m\u001b[0m \u001b[1m6s\u001b[0m 20ms/step - accuracy: 0.9714 - loss: 0.0966 - val_accuracy: 0.4650 - val_loss: 2.6995\n",
      "Epoch 23/50\n",
      "\u001b[1m304/304\u001b[0m \u001b[32m━━━━━━━━━━━━━━━━━━━━\u001b[0m\u001b[37m\u001b[0m \u001b[1m6s\u001b[0m 20ms/step - accuracy: 0.9753 - loss: 0.0851 - val_accuracy: 0.4500 - val_loss: 2.7853\n",
      "Epoch 24/50\n",
      "\u001b[1m304/304\u001b[0m \u001b[32m━━━━━━━━━━━━━━━━━━━━\u001b[0m\u001b[37m\u001b[0m \u001b[1m6s\u001b[0m 20ms/step - accuracy: 0.9583 - loss: 0.1239 - val_accuracy: 0.4100 - val_loss: 4.1366\n",
      "Epoch 25/50\n",
      "\u001b[1m304/304\u001b[0m \u001b[32m━━━━━━━━━━━━━━━━━━━━\u001b[0m\u001b[37m\u001b[0m \u001b[1m6s\u001b[0m 20ms/step - accuracy: 0.9546 - loss: 0.1267 - val_accuracy: 0.4700 - val_loss: 2.6409\n",
      "Epoch 26/50\n",
      "\u001b[1m304/304\u001b[0m \u001b[32m━━━━━━━━━━━━━━━━━━━━\u001b[0m\u001b[37m\u001b[0m \u001b[1m6s\u001b[0m 21ms/step - accuracy: 0.9686 - loss: 0.0931 - val_accuracy: 0.4600 - val_loss: 2.7363\n",
      "Epoch 27/50\n",
      "\u001b[1m304/304\u001b[0m \u001b[32m━━━━━━━━━━━━━━━━━━━━\u001b[0m\u001b[37m\u001b[0m \u001b[1m6s\u001b[0m 21ms/step - accuracy: 0.9775 - loss: 0.0716 - val_accuracy: 0.4700 - val_loss: 2.7298\n",
      "Epoch 28/50\n",
      "\u001b[1m304/304\u001b[0m \u001b[32m━━━━━━━━━━━━━━━━━━━━\u001b[0m\u001b[37m\u001b[0m \u001b[1m7s\u001b[0m 22ms/step - accuracy: 0.9764 - loss: 0.0684 - val_accuracy: 0.4950 - val_loss: 2.9539\n",
      "Epoch 29/50\n",
      "\u001b[1m304/304\u001b[0m \u001b[32m━━━━━━━━━━━━━━━━━━━━\u001b[0m\u001b[37m\u001b[0m \u001b[1m7s\u001b[0m 22ms/step - accuracy: 0.9822 - loss: 0.0544 - val_accuracy: 0.4550 - val_loss: 2.7016\n",
      "Epoch 30/50\n",
      "\u001b[1m304/304\u001b[0m \u001b[32m━━━━━━━━━━━━━━━━━━━━\u001b[0m\u001b[37m\u001b[0m \u001b[1m6s\u001b[0m 21ms/step - accuracy: 0.9828 - loss: 0.0538 - val_accuracy: 0.4500 - val_loss: 2.7255\n",
      "Epoch 31/50\n",
      "\u001b[1m304/304\u001b[0m \u001b[32m━━━━━━━━━━━━━━━━━━━━\u001b[0m\u001b[37m\u001b[0m \u001b[1m6s\u001b[0m 21ms/step - accuracy: 0.9691 - loss: 0.0943 - val_accuracy: 0.4650 - val_loss: 2.7678\n",
      "Epoch 32/50\n",
      "\u001b[1m304/304\u001b[0m \u001b[32m━━━━━━━━━━━━━━━━━━━━\u001b[0m\u001b[37m\u001b[0m \u001b[1m7s\u001b[0m 22ms/step - accuracy: 0.9778 - loss: 0.0744 - val_accuracy: 0.4700 - val_loss: 2.7679\n",
      "Epoch 33/50\n",
      "\u001b[1m304/304\u001b[0m \u001b[32m━━━━━━━━━━━━━━━━━━━━\u001b[0m\u001b[37m\u001b[0m \u001b[1m6s\u001b[0m 21ms/step - accuracy: 0.9808 - loss: 0.0643 - val_accuracy: 0.4850 - val_loss: 2.6505\n",
      "Epoch 34/50\n",
      "\u001b[1m304/304\u001b[0m \u001b[32m━━━━━━━━━━━━━━━━━━━━\u001b[0m\u001b[37m\u001b[0m \u001b[1m7s\u001b[0m 22ms/step - accuracy: 0.9652 - loss: 0.1212 - val_accuracy: 0.4900 - val_loss: 2.7408\n",
      "Epoch 35/50\n",
      "\u001b[1m304/304\u001b[0m \u001b[32m━━━━━━━━━━━━━━━━━━━━\u001b[0m\u001b[37m\u001b[0m \u001b[1m7s\u001b[0m 22ms/step - accuracy: 0.9794 - loss: 0.0547 - val_accuracy: 0.4650 - val_loss: 3.0157\n",
      "Epoch 36/50\n",
      "\u001b[1m304/304\u001b[0m \u001b[32m━━━━━━━━━━━━━━━━━━━━\u001b[0m\u001b[37m\u001b[0m \u001b[1m7s\u001b[0m 21ms/step - accuracy: 0.9793 - loss: 0.0661 - val_accuracy: 0.4800 - val_loss: 3.1157\n",
      "Epoch 37/50\n",
      "\u001b[1m304/304\u001b[0m \u001b[32m━━━━━━━━━━━━━━━━━━━━\u001b[0m\u001b[37m\u001b[0m \u001b[1m6s\u001b[0m 21ms/step - accuracy: 0.9841 - loss: 0.0481 - val_accuracy: 0.4550 - val_loss: 3.0612\n",
      "Epoch 38/50\n",
      "\u001b[1m304/304\u001b[0m \u001b[32m━━━━━━━━━━━━━━━━━━━━\u001b[0m\u001b[37m\u001b[0m \u001b[1m7s\u001b[0m 22ms/step - accuracy: 0.9877 - loss: 0.0431 - val_accuracy: 0.4550 - val_loss: 2.7675\n",
      "Epoch 39/50\n",
      "\u001b[1m304/304\u001b[0m \u001b[32m━━━━━━━━━━━━━━━━━━━━\u001b[0m\u001b[37m\u001b[0m \u001b[1m6s\u001b[0m 21ms/step - accuracy: 0.9852 - loss: 0.0471 - val_accuracy: 0.4500 - val_loss: 3.6139\n",
      "Epoch 40/50\n",
      "\u001b[1m304/304\u001b[0m \u001b[32m━━━━━━━━━━━━━━━━━━━━\u001b[0m\u001b[37m\u001b[0m \u001b[1m7s\u001b[0m 22ms/step - accuracy: 0.9879 - loss: 0.0385 - val_accuracy: 0.4400 - val_loss: 3.6661\n",
      "Epoch 41/50\n",
      "\u001b[1m304/304\u001b[0m \u001b[32m━━━━━━━━━━━━━━━━━━━━\u001b[0m\u001b[37m\u001b[0m \u001b[1m7s\u001b[0m 23ms/step - accuracy: 0.9763 - loss: 0.0640 - val_accuracy: 0.4500 - val_loss: 3.3673\n",
      "Epoch 42/50\n",
      "\u001b[1m304/304\u001b[0m \u001b[32m━━━━━━━━━━━━━━━━━━━━\u001b[0m\u001b[37m\u001b[0m \u001b[1m6s\u001b[0m 21ms/step - accuracy: 0.9701 - loss: 0.0887 - val_accuracy: 0.4250 - val_loss: 3.0131\n",
      "Epoch 43/50\n",
      "\u001b[1m304/304\u001b[0m \u001b[32m━━━━━━━━━━━━━━━━━━━━\u001b[0m\u001b[37m\u001b[0m \u001b[1m6s\u001b[0m 21ms/step - accuracy: 0.9735 - loss: 0.0701 - val_accuracy: 0.4550 - val_loss: 3.3554\n",
      "Epoch 44/50\n",
      "\u001b[1m304/304\u001b[0m \u001b[32m━━━━━━━━━━━━━━━━━━━━\u001b[0m\u001b[37m\u001b[0m \u001b[1m7s\u001b[0m 22ms/step - accuracy: 0.9883 - loss: 0.0357 - val_accuracy: 0.4600 - val_loss: 3.1552\n",
      "Epoch 45/50\n",
      "\u001b[1m304/304\u001b[0m \u001b[32m━━━━━━━━━━━━━━━━━━━━\u001b[0m\u001b[37m\u001b[0m \u001b[1m7s\u001b[0m 23ms/step - accuracy: 0.9894 - loss: 0.0298 - val_accuracy: 0.4550 - val_loss: 3.0181\n",
      "Epoch 46/50\n",
      "\u001b[1m304/304\u001b[0m \u001b[32m━━━━━━━━━━━━━━━━━━━━\u001b[0m\u001b[37m\u001b[0m \u001b[1m7s\u001b[0m 23ms/step - accuracy: 0.9904 - loss: 0.0364 - val_accuracy: 0.4550 - val_loss: 2.9651\n",
      "Epoch 47/50\n",
      "\u001b[1m304/304\u001b[0m \u001b[32m━━━━━━━━━━━━━━━━━━━━\u001b[0m\u001b[37m\u001b[0m \u001b[1m7s\u001b[0m 23ms/step - accuracy: 0.9841 - loss: 0.0490 - val_accuracy: 0.4200 - val_loss: 3.2169\n",
      "Epoch 48/50\n",
      "\u001b[1m304/304\u001b[0m \u001b[32m━━━━━━━━━━━━━━━━━━━━\u001b[0m\u001b[37m\u001b[0m \u001b[1m7s\u001b[0m 23ms/step - accuracy: 0.9775 - loss: 0.0642 - val_accuracy: 0.4600 - val_loss: 3.1757\n",
      "Epoch 49/50\n",
      "\u001b[1m304/304\u001b[0m \u001b[32m━━━━━━━━━━━━━━━━━━━━\u001b[0m\u001b[37m\u001b[0m \u001b[1m7s\u001b[0m 22ms/step - accuracy: 0.9878 - loss: 0.0357 - val_accuracy: 0.4450 - val_loss: 3.2007\n",
      "Epoch 50/50\n",
      "\u001b[1m304/304\u001b[0m \u001b[32m━━━━━━━━━━━━━━━━━━━━\u001b[0m\u001b[37m\u001b[0m \u001b[1m7s\u001b[0m 22ms/step - accuracy: 0.9926 - loss: 0.0268 - val_accuracy: 0.4550 - val_loss: 3.2621\n"
     ]
    }
   ],
   "source": [
    "his1=cnn.fit(train_ds,validation_data=valid_ds,epochs=50)"
   ]
  },
  {
   "cell_type": "code",
   "execution_count": 40,
   "id": "ec35b2cf-8fb9-456a-a21b-9957f17bd5f6",
   "metadata": {},
   "outputs": [
    {
     "name": "stdout",
     "output_type": "stream",
     "text": [
      "\u001b[1m7/7\u001b[0m \u001b[32m━━━━━━━━━━━━━━━━━━━━\u001b[0m\u001b[37m\u001b[0m \u001b[1m0s\u001b[0m 7ms/step - accuracy: 0.4203 - loss: 3.4382 \n"
     ]
    },
    {
     "data": {
      "text/plain": [
       "[3.2620856761932373, 0.45500001311302185]"
      ]
     },
     "execution_count": 40,
     "metadata": {},
     "output_type": "execute_result"
    }
   ],
   "source": [
    "cnn.evaluate(test_ds)"
   ]
  },
  {
   "cell_type": "code",
   "execution_count": 41,
   "id": "afb507b9-75af-4ba8-aa6d-d30d3dde92bc",
   "metadata": {},
   "outputs": [
    {
     "data": {
      "image/png": "[encoded data removed]",
      "text/plain": [
       "<Figure size 640x480 with 1 Axes>"
      ]
     },
     "metadata": {},
     "output_type": "display_data"
    },
    {
     "data": {
      "image/png": "[encoded data removed]",
      "text/plain": [
       "<Figure size 640x480 with 1 Axes>"
      ]
     },
     "metadata": {},
     "output_type": "display_data"
    }
   ],
   "source": [
    "plt.plot(his1.history['loss'],label='Training Loss')\n",
    "plt.plot(his1.history['val_loss'],label='VAlidation Loss')\n",
    "plt.legend()\n",
    "plt.show()\n",
    "\n",
    "plt.plot(his1.history['accuracy'],label='Training Accuracy')\n",
    "plt.plot(his1.history['val_accuracy'],label='VAlidation Accuracy')\n",
    "plt.legend()\n",
    "plt.show()"
   ]
  },
  {
   "cell_type": "code",
   "execution_count": 42,
   "id": "68a6a476-f40a-47a6-bdf8-1720c8502f73",
   "metadata": {},
   "outputs": [
    {
     "name": "stdout",
     "output_type": "stream",
     "text": [
      "\u001b[1m7/7\u001b[0m \u001b[32m━━━━━━━━━━━━━━━━━━━━\u001b[0m\u001b[37m\u001b[0m \u001b[1m0s\u001b[0m 35ms/step\n"
     ]
    }
   ],
   "source": [
    "y_pred1=cnn.predict(test_ds)"
   ]
  },
  {
   "cell_type": "code",
   "execution_count": 43,
   "id": "cd5c1e51-7ba3-4982-a2a6-461c66da5232",
   "metadata": {},
   "outputs": [
    {
     "data": {
      "text/plain": [
       "array([[9.53787506e-01, 7.08449193e-07, 6.16891848e-05, 1.57390004e-05,\n",
       "        4.61343564e-02],\n",
       "       [1.11846070e-07, 9.94775414e-01, 6.99688244e-05, 2.51853521e-06,\n",
       "        5.15194284e-03],\n",
       "       [2.86382099e-04, 5.20707965e-01, 1.31412774e-08, 4.79005635e-01,\n",
       "        2.38948381e-08],\n",
       "       [6.03454888e-01, 4.42844019e-08, 7.15195420e-05, 1.56147251e-09,\n",
       "        3.96473497e-01],\n",
       "       [1.00239173e-01, 8.56769502e-01, 9.30777052e-04, 3.91336232e-02,\n",
       "        2.92702182e-03],\n",
       "       [5.67588831e-05, 2.40144832e-03, 9.97004926e-01, 9.39453386e-08,\n",
       "        5.36679639e-04],\n",
       "       [2.24796608e-02, 2.37654356e-04, 6.28857910e-10, 8.62844229e-01,\n",
       "        1.14438370e-01],\n",
       "       [1.30807951e-01, 1.96763445e-02, 4.17446842e-07, 8.49511921e-01,\n",
       "        3.37259689e-06],\n",
       "       [2.85112299e-04, 2.98117122e-08, 1.20587618e-09, 9.99714792e-01,\n",
       "        2.66708634e-11],\n",
       "       [1.00000000e+00, 5.23145503e-12, 4.78455997e-10, 3.46497520e-09,\n",
       "        1.67523231e-10],\n",
       "       [5.82292629e-03, 3.86092067e-01, 6.07927918e-01, 1.56886206e-04,\n",
       "        2.22162697e-07],\n",
       "       [6.55951008e-05, 3.11142507e-08, 4.19109594e-03, 6.09080342e-09,\n",
       "        9.95743215e-01],\n",
       "       [1.61092339e-05, 2.63833595e-08, 1.20074972e-07, 1.03349885e-04,\n",
       "        9.99880433e-01],\n",
       "       [1.39710298e-02, 2.53951609e-01, 7.00054348e-01, 3.13134417e-02,\n",
       "        7.09510758e-04],\n",
       "       [6.54206812e-01, 2.35827286e-02, 4.67595091e-04, 1.94779616e-02,\n",
       "        3.02264899e-01],\n",
       "       [1.82621108e-04, 8.36358313e-03, 7.86254525e-01, 2.05199301e-01,\n",
       "        3.66720632e-09],\n",
       "       [2.28634622e-09, 9.69987826e-16, 4.02101529e-12, 4.52241272e-13,\n",
       "        1.00000000e+00],\n",
       "       [9.97785449e-01, 1.97899251e-04, 6.86831072e-06, 2.00802460e-03,\n",
       "        1.67067469e-06],\n",
       "       [7.00520217e-01, 7.40665244e-03, 1.24769367e-01, 6.12425993e-06,\n",
       "        1.67297706e-01],\n",
       "       [1.00065984e-06, 9.88373101e-01, 1.16240503e-02, 1.70059934e-06,\n",
       "        2.66011114e-07],\n",
       "       [9.86930847e-01, 5.12214657e-03, 5.76407695e-03, 4.02569422e-05,\n",
       "        2.14269827e-03],\n",
       "       [2.10361013e-05, 1.14934042e-01, 2.19808170e-03, 8.45349133e-01,\n",
       "        3.74977142e-02],\n",
       "       [1.33832058e-04, 9.96898293e-01, 2.87446124e-03, 5.95435813e-05,\n",
       "        3.39068829e-05],\n",
       "       [3.45576168e-09, 1.89888144e-13, 1.00000000e+00, 5.59163083e-16,\n",
       "        1.18280230e-08],\n",
       "       [5.74296631e-04, 5.65398892e-04, 9.98627305e-01, 3.00413831e-07,\n",
       "        2.32664112e-04],\n",
       "       [2.14131505e-04, 9.70002856e-10, 1.07002996e-01, 7.02036762e-11,\n",
       "        8.92782927e-01],\n",
       "       [1.23694271e-01, 7.64604600e-04, 7.20612705e-01, 2.05219723e-03,\n",
       "        1.52876124e-01],\n",
       "       [8.48095748e-04, 2.89877611e-09, 3.60845398e-08, 1.10310747e-08,\n",
       "        9.99151826e-01],\n",
       "       [2.07328549e-06, 1.01886910e-11, 9.99751270e-01, 6.55921606e-13,\n",
       "        2.46712705e-04],\n",
       "       [3.13638300e-01, 9.44421139e-11, 6.86288834e-01, 7.19279997e-05,\n",
       "        9.81847961e-07],\n",
       "       [1.66779532e-08, 9.86831069e-01, 1.30208181e-02, 1.24839120e-04,\n",
       "        2.32783186e-05],\n",
       "       [9.54735428e-02, 8.21768120e-03, 2.52677035e-03, 7.70156801e-01,\n",
       "        1.23625197e-01],\n",
       "       [9.20061780e-07, 5.58520621e-03, 9.19166446e-01, 7.51194432e-02,\n",
       "        1.27996085e-04],\n",
       "       [5.88528696e-04, 1.62194148e-04, 9.99195874e-01, 5.22276205e-05,\n",
       "        1.21724690e-06],\n",
       "       [9.14658140e-03, 1.45267848e-07, 1.57157716e-03, 2.27294382e-04,\n",
       "        9.89054441e-01],\n",
       "       [3.97576252e-04, 1.47941083e-01, 2.67789092e-05, 8.51634562e-01,\n",
       "        2.00887064e-13],\n",
       "       [1.19609700e-03, 9.88562346e-01, 2.92643061e-04, 6.19227067e-03,\n",
       "        3.75659182e-03],\n",
       "       [9.47400689e-01, 1.07210535e-05, 9.09554888e-04, 3.95642337e-06,\n",
       "        5.16750179e-02],\n",
       "       [5.65010130e-01, 4.32265282e-01, 2.53360788e-03, 2.33084274e-10,\n",
       "        1.90986641e-04],\n",
       "       [6.55681620e-11, 2.02870815e-05, 1.68860481e-07, 9.99979496e-01,\n",
       "        2.29941168e-08],\n",
       "       [7.26508915e-01, 2.72857636e-01, 1.78029052e-06, 6.30659983e-04,\n",
       "        9.33076421e-07],\n",
       "       [1.63312797e-02, 4.31320103e-07, 9.83489156e-01, 6.36958131e-09,\n",
       "        1.79168259e-04],\n",
       "       [2.43290312e-08, 3.82271186e-02, 1.09547371e-10, 9.61772859e-01,\n",
       "        7.04119749e-11],\n",
       "       [1.31781986e-02, 2.88190076e-08, 2.28965166e-03, 2.98833385e-07,\n",
       "        9.84531820e-01],\n",
       "       [6.60219637e-04, 2.58422573e-03, 7.62927765e-03, 6.48515424e-07,\n",
       "        9.89125609e-01],\n",
       "       [2.77000381e-05, 1.13718461e-05, 6.66375518e-01, 7.95230062e-06,\n",
       "        3.33577514e-01],\n",
       "       [1.11149675e-05, 2.01233760e-01, 1.11347064e-04, 7.98566163e-01,\n",
       "        7.75453736e-05],\n",
       "       [1.38007545e-06, 3.68597470e-12, 6.13656992e-09, 4.58205576e-13,\n",
       "        9.99998569e-01],\n",
       "       [5.72675664e-04, 1.33333856e-06, 6.01333450e-04, 9.98824656e-01,\n",
       "        9.54794299e-11],\n",
       "       [7.30673596e-03, 1.00154651e-03, 9.91685390e-01, 2.11808402e-08,\n",
       "        6.35012384e-06],\n",
       "       [3.13930772e-02, 2.07947325e-02, 9.21262860e-01, 2.34955344e-02,\n",
       "        3.05369403e-03],\n",
       "       [7.70045724e-03, 3.00443638e-02, 9.62030411e-01, 2.23025665e-04,\n",
       "        1.72714863e-06],\n",
       "       [1.91800587e-04, 2.81938917e-09, 1.00978352e-04, 1.78769790e-06,\n",
       "        9.99705374e-01],\n",
       "       [9.99925137e-01, 6.36931986e-07, 2.94182968e-07, 7.39892057e-05,\n",
       "        2.70916969e-12],\n",
       "       [2.80757774e-07, 1.97207715e-04, 2.40271585e-14, 9.99802530e-01,\n",
       "        1.19209316e-13],\n",
       "       [9.49466921e-05, 6.87708877e-08, 1.66775493e-07, 9.99454319e-01,\n",
       "        4.50528401e-04],\n",
       "       [1.77879304e-01, 1.83509849e-06, 6.92589700e-01, 1.11336589e-01,\n",
       "        1.81925837e-02],\n",
       "       [4.24284749e-02, 3.68986948e-04, 7.79549824e-04, 7.91038678e-04,\n",
       "        9.55631971e-01],\n",
       "       [2.59044906e-03, 1.06900615e-07, 3.76743916e-03, 3.22426468e-01,\n",
       "        6.71215594e-01],\n",
       "       [1.61685000e-06, 1.63920980e-03, 9.97459590e-01, 2.13811276e-04,\n",
       "        6.85821462e-04],\n",
       "       [1.04435403e-02, 2.72479832e-01, 1.23178790e-04, 7.16828287e-01,\n",
       "        1.25225997e-04],\n",
       "       [1.00719626e-05, 9.34163094e-01, 1.37245548e-09, 6.58269227e-02,\n",
       "        1.76044276e-10],\n",
       "       [1.42111268e-04, 1.84776227e-03, 4.09081668e-01, 4.71032661e-04,\n",
       "        5.88457465e-01],\n",
       "       [2.84356811e-05, 3.23393848e-03, 7.67821970e-04, 9.95968461e-01,\n",
       "        1.30929050e-06],\n",
       "       [1.14529867e-05, 5.15505672e-01, 1.11715699e-05, 4.84462410e-01,\n",
       "        9.30439546e-06],\n",
       "       [9.21598494e-01, 2.81131845e-02, 4.06113259e-06, 3.70371193e-02,\n",
       "        1.32470997e-02],\n",
       "       [7.35250942e-05, 6.21037543e-05, 8.82240982e-08, 9.98484433e-01,\n",
       "        1.37985591e-03],\n",
       "       [4.03036438e-02, 4.29144613e-02, 8.53204767e-07, 9.16781068e-01,\n",
       "        9.49924614e-14],\n",
       "       [1.11783360e-04, 7.98704297e-11, 1.54068189e-07, 5.50361423e-11,\n",
       "        9.99888062e-01],\n",
       "       [2.89226621e-01, 3.70803773e-01, 7.62997956e-07, 3.17405760e-01,\n",
       "        2.25631054e-02],\n",
       "       [8.11960723e-04, 2.49948353e-01, 5.43859275e-03, 7.43405759e-01,\n",
       "        3.95293580e-04],\n",
       "       [6.12769648e-03, 7.99605550e-05, 9.55091655e-01, 3.87006924e-02,\n",
       "        3.20179403e-08],\n",
       "       [7.93053061e-07, 1.61922049e-08, 1.89295315e-05, 5.65494265e-05,\n",
       "        9.99923706e-01],\n",
       "       [9.37223172e-13, 6.64177525e-04, 8.60077733e-08, 9.99335706e-01,\n",
       "        9.83682247e-10],\n",
       "       [1.35926564e-06, 9.99931216e-01, 9.97168792e-10, 6.74578987e-05,\n",
       "        1.31507210e-11],\n",
       "       [8.05160310e-03, 2.52143592e-02, 3.32484691e-04, 9.65944529e-01,\n",
       "        4.57012764e-04],\n",
       "       [1.96452993e-06, 4.75648552e-01, 1.54246322e-07, 5.24349332e-01,\n",
       "        1.93160155e-09],\n",
       "       [9.99215484e-01, 3.89665349e-11, 7.35342619e-04, 1.50742668e-10,\n",
       "        4.92223990e-05],\n",
       "       [1.73907176e-06, 9.99885798e-01, 4.26367478e-06, 1.05392464e-04,\n",
       "        2.72221769e-06],\n",
       "       [1.75111018e-05, 9.99981284e-01, 2.06956496e-09, 4.74056456e-08,\n",
       "        1.23625637e-06],\n",
       "       [6.83759140e-07, 1.86669193e-02, 9.69501734e-01, 1.18305013e-02,\n",
       "        1.90891598e-07],\n",
       "       [2.09287251e-03, 9.88971174e-01, 8.93541146e-03, 3.38385519e-07,\n",
       "        1.68162984e-07],\n",
       "       [4.36838309e-04, 7.89380133e-01, 2.77675651e-02, 2.12575861e-13,\n",
       "        1.82415500e-01],\n",
       "       [3.11936456e-05, 9.99833584e-01, 2.26949851e-07, 6.16480247e-05,\n",
       "        7.33210545e-05],\n",
       "       [2.32090980e-01, 5.82586043e-02, 9.97717609e-04, 6.77259803e-01,\n",
       "        3.13929692e-02],\n",
       "       [5.91075572e-04, 9.95731413e-01, 2.84669525e-03, 7.50689767e-04,\n",
       "        8.01427450e-05],\n",
       "       [2.67548347e-03, 5.43829344e-07, 9.95613933e-01, 1.66212174e-03,\n",
       "        4.79606097e-05],\n",
       "       [2.26751843e-04, 2.83880800e-01, 7.15750039e-01, 2.50254993e-06,\n",
       "        1.39974087e-04],\n",
       "       [2.60556079e-02, 9.71173942e-01, 1.92241896e-05, 2.89120246e-04,\n",
       "        2.46215402e-03],\n",
       "       [7.17213494e-04, 4.56570834e-03, 9.28066584e-05, 9.94421422e-01,\n",
       "        2.02795200e-04],\n",
       "       [6.46172116e-10, 3.63100413e-12, 9.99989390e-01, 2.02696695e-14,\n",
       "        1.05814042e-05],\n",
       "       [3.31548305e-04, 1.55366448e-04, 2.36455655e-08, 9.99510765e-01,\n",
       "        2.28467343e-06],\n",
       "       [3.42992455e-01, 7.14278841e-08, 6.60922155e-02, 2.44162620e-05,\n",
       "        5.90890825e-01],\n",
       "       [1.48224637e-01, 5.21539296e-05, 6.48750663e-01, 1.63073477e-04,\n",
       "        2.02809423e-01],\n",
       "       [1.06793685e-07, 1.29104659e-01, 3.13005745e-01, 9.71097506e-07,\n",
       "        5.57888508e-01],\n",
       "       [6.99796807e-03, 1.12544240e-05, 1.84809412e-08, 5.76424846e-08,\n",
       "        9.92990732e-01],\n",
       "       [4.83561143e-06, 1.01874502e-06, 9.99703348e-01, 1.33882468e-05,\n",
       "        2.77491228e-04],\n",
       "       [9.50188816e-01, 4.86671552e-02, 4.75330482e-04, 6.59892976e-04,\n",
       "        8.85263307e-06],\n",
       "       [1.40722588e-01, 1.46624116e-17, 1.62185498e-09, 3.03878190e-12,\n",
       "        8.59277427e-01],\n",
       "       [2.16975081e-04, 1.15209050e-03, 3.29966540e-11, 9.98627663e-01,\n",
       "        3.30191187e-06],\n",
       "       [4.85410914e-03, 1.02389597e-04, 7.73721885e-12, 9.95039165e-01,\n",
       "        4.40198573e-06],\n",
       "       [7.75753870e-05, 7.54875362e-01, 8.36720690e-03, 3.57894335e-12,\n",
       "        2.36679927e-01],\n",
       "       [8.51820369e-05, 6.06559336e-09, 1.04467777e-08, 6.40596090e-06,\n",
       "        9.99908328e-01],\n",
       "       [3.34824950e-01, 1.92226470e-01, 3.85572851e-01, 6.68798685e-02,\n",
       "        2.04957686e-02],\n",
       "       [6.34878161e-05, 3.34659708e-05, 8.26744326e-06, 5.89915981e-05,\n",
       "        9.99835730e-01],\n",
       "       [2.11239681e-02, 1.40108973e-01, 8.14488232e-01, 9.23879998e-05,\n",
       "        2.41864938e-02],\n",
       "       [1.44089108e-06, 7.03170429e-07, 9.99997020e-01, 9.38459935e-11,\n",
       "        7.76551815e-07],\n",
       "       [1.16532083e-05, 9.99985814e-01, 8.25113275e-08, 1.91555637e-06,\n",
       "        4.92010940e-07],\n",
       "       [3.26108852e-06, 4.78430738e-05, 2.71342242e-06, 9.99930382e-01,\n",
       "        1.58684616e-05],\n",
       "       [7.50565622e-03, 9.45897400e-01, 9.29324701e-03, 3.72106396e-02,\n",
       "        9.31186369e-05],\n",
       "       [1.93778396e-01, 1.31652982e-04, 8.03925574e-01, 1.69942548e-04,\n",
       "        1.99444243e-03],\n",
       "       [7.95084925e-04, 8.78583193e-01, 1.20593444e-01, 1.93689630e-05,\n",
       "        8.85427835e-06],\n",
       "       [9.99787390e-01, 2.34576092e-09, 8.30577701e-05, 2.68476647e-11,\n",
       "        1.29540989e-04],\n",
       "       [5.98805010e-01, 4.09927395e-07, 8.41119530e-09, 1.31713037e-04,\n",
       "        4.01062846e-01],\n",
       "       [6.44154170e-08, 1.86142506e-06, 3.12972759e-10, 9.99997973e-01,\n",
       "        1.23665714e-07],\n",
       "       [1.77019108e-02, 9.66837287e-01, 1.49584394e-02, 4.97237255e-04,\n",
       "        5.18024899e-06],\n",
       "       [9.90377903e-01, 6.61408173e-09, 1.50671985e-05, 1.09981547e-05,\n",
       "        9.59597807e-03],\n",
       "       [6.41337875e-03, 1.79352977e-10, 5.97395267e-12, 9.53863832e-07,\n",
       "        9.93585646e-01],\n",
       "       [5.00904679e-01, 1.34928041e-05, 3.79564585e-06, 4.99077976e-01,\n",
       "        4.59947014e-09],\n",
       "       [1.75049901e-03, 1.67946728e-05, 3.74753028e-04, 5.86636270e-05,\n",
       "        9.97799218e-01],\n",
       "       [3.10993666e-04, 2.39601126e-03, 9.96438622e-01, 8.10710480e-04,\n",
       "        4.37479648e-05],\n",
       "       [1.11394081e-06, 1.46953969e-08, 9.99951124e-01, 1.11532415e-11,\n",
       "        4.78352158e-05],\n",
       "       [4.22555831e-06, 2.03394438e-06, 5.33494631e-06, 2.62112887e-09,\n",
       "        9.99988437e-01],\n",
       "       [1.33914276e-04, 1.84020343e-15, 9.13169933e-04, 9.51615342e-10,\n",
       "        9.98952866e-01],\n",
       "       [2.60228268e-03, 8.57945442e-01, 6.76783174e-02, 7.17726201e-02,\n",
       "        1.36730796e-06],\n",
       "       [9.99805033e-01, 1.05387997e-07, 4.85248002e-08, 1.94922191e-04,\n",
       "        7.80158715e-10],\n",
       "       [9.56655741e-01, 4.44728299e-09, 8.31806972e-07, 1.13832033e-09,\n",
       "        4.33434956e-02],\n",
       "       [7.93476582e-01, 4.35920432e-02, 9.74046290e-02, 6.29132241e-02,\n",
       "        2.61343806e-03],\n",
       "       [6.78999186e-01, 6.45391538e-06, 2.17562448e-03, 1.98019668e-02,\n",
       "        2.99016774e-01],\n",
       "       [7.09602609e-03, 7.50877289e-03, 4.11778444e-07, 9.84912813e-01,\n",
       "        4.81964526e-04],\n",
       "       [8.92088070e-10, 9.99999523e-01, 5.25593975e-07, 3.21360680e-08,\n",
       "        5.15932574e-11],\n",
       "       [9.99916196e-01, 8.28637858e-05, 5.70360925e-10, 1.59650028e-07,\n",
       "        8.36136223e-07],\n",
       "       [9.97676313e-01, 2.09756964e-03, 8.07918514e-06, 2.17992536e-04,\n",
       "        8.82881057e-09],\n",
       "       [4.76772338e-03, 2.78173424e-02, 8.23026359e-01, 7.00960234e-02,\n",
       "        7.42925629e-02],\n",
       "       [7.90561782e-04, 5.00580654e-06, 3.55502812e-06, 9.19262506e-03,\n",
       "        9.90008235e-01],\n",
       "       [2.05794051e-01, 7.68066823e-01, 8.27674940e-03, 1.78623367e-02,\n",
       "        7.76474849e-08],\n",
       "       [9.74666119e-01, 1.62331119e-07, 1.87782480e-05, 2.41843518e-02,\n",
       "        1.13063713e-03],\n",
       "       [2.78908628e-05, 1.20140226e-04, 1.35414358e-09, 9.99851942e-01,\n",
       "        4.48952125e-11],\n",
       "       [1.92146167e-01, 1.35122554e-03, 1.24579292e-05, 8.06274891e-01,\n",
       "        2.15292428e-04],\n",
       "       [2.73985378e-02, 8.70930254e-01, 9.23131630e-02, 9.20534600e-03,\n",
       "        1.52665234e-04],\n",
       "       [3.75322707e-05, 2.71048805e-07, 3.85825797e-06, 9.99953389e-01,\n",
       "        5.01949307e-06],\n",
       "       [3.12994280e-06, 1.59633998e-07, 3.58672987e-05, 3.01985246e-08,\n",
       "        9.99960780e-01],\n",
       "       [1.04459457e-06, 3.46942954e-02, 9.65277195e-01, 2.10531880e-06,\n",
       "        2.54250317e-05],\n",
       "       [1.16365927e-03, 6.57717697e-04, 1.43113607e-06, 9.98177052e-01,\n",
       "        1.07259680e-07],\n",
       "       [2.69839598e-04, 2.48136763e-02, 1.70760668e-05, 9.74720776e-01,\n",
       "        1.78618458e-04],\n",
       "       [5.34432614e-03, 1.11162141e-01, 5.28118201e-02, 8.30679297e-01,\n",
       "        2.45273645e-06],\n",
       "       [1.48899120e-03, 2.25156560e-04, 3.69151618e-04, 6.78408099e-03,\n",
       "        9.91132677e-01],\n",
       "       [3.10590029e-01, 6.77572131e-01, 3.60466288e-06, 3.21024418e-05,\n",
       "        1.18021322e-02],\n",
       "       [4.67366190e-04, 1.73395975e-07, 1.98948712e-07, 4.26184897e-06,\n",
       "        9.99528050e-01],\n",
       "       [1.79192430e-05, 2.03472865e-03, 9.11593497e-01, 5.39147038e-07,\n",
       "        8.63532946e-02],\n",
       "       [4.07165862e-06, 1.49608448e-14, 3.90480509e-10, 2.14849805e-10,\n",
       "        9.99995947e-01],\n",
       "       [1.34987652e-01, 2.42816890e-03, 2.09016819e-03, 8.59164119e-01,\n",
       "        1.32989115e-03],\n",
       "       [5.63155767e-03, 1.62111992e-05, 1.18840998e-02, 1.55592643e-05,\n",
       "        9.82452512e-01],\n",
       "       [4.17278185e-02, 1.15746014e-04, 5.63747227e-01, 1.19519595e-03,\n",
       "        3.93214017e-01],\n",
       "       [9.78164792e-01, 1.27675000e-03, 1.68763362e-02, 2.92791896e-07,\n",
       "        3.68187390e-03],\n",
       "       [9.91001070e-01, 7.35833623e-07, 2.17672531e-03, 3.79581645e-04,\n",
       "        6.44188235e-03],\n",
       "       [9.35139060e-01, 5.51575785e-16, 2.95091104e-11, 9.76407883e-18,\n",
       "        6.48608953e-02],\n",
       "       [8.04345532e-08, 2.67158728e-03, 4.23068195e-05, 1.63581353e-05,\n",
       "        9.97269690e-01],\n",
       "       [5.58892339e-02, 9.72674266e-02, 8.46830428e-01, 1.29703130e-05,\n",
       "        1.45816459e-09],\n",
       "       [8.56319894e-05, 9.88875926e-01, 1.08283469e-02, 2.10070983e-04,\n",
       "        1.55359672e-08],\n",
       "       [3.32044244e-01, 3.64071906e-01, 1.88045382e-01, 1.08982421e-01,\n",
       "        6.85599400e-03],\n",
       "       [1.69089576e-09, 9.70737517e-01, 1.75394292e-03, 1.66394766e-05,\n",
       "        2.74918228e-02],\n",
       "       [6.83434665e-01, 1.26024371e-03, 2.85574403e-02, 1.61275081e-02,\n",
       "        2.70620137e-01],\n",
       "       [5.14020801e-01, 2.04602907e-06, 2.06252583e-03, 5.37001644e-04,\n",
       "        4.83377576e-01],\n",
       "       [3.66906941e-01, 1.42122790e-01, 1.23587362e-02, 4.62039560e-01,\n",
       "        1.65719930e-02],\n",
       "       [2.00541794e-01, 7.22034156e-01, 4.99043334e-03, 6.65541664e-02,\n",
       "        5.87939844e-03],\n",
       "       [3.31840274e-04, 1.65287456e-05, 2.83278555e-01, 2.90390926e-06,\n",
       "        7.16370165e-01],\n",
       "       [1.33540167e-03, 9.97684717e-01, 1.42512320e-07, 9.28911730e-04,\n",
       "        5.08852609e-05],\n",
       "       [2.84178939e-04, 4.75410521e-01, 5.20491183e-01, 3.74348741e-03,\n",
       "        7.05476123e-05],\n",
       "       [1.95768420e-02, 3.46031988e-11, 9.18938596e-08, 1.13247881e-06,\n",
       "        9.80421960e-01],\n",
       "       [4.65751113e-03, 8.22812915e-02, 2.58894749e-02, 8.87118936e-01,\n",
       "        5.27377924e-05],\n",
       "       [4.52393433e-05, 6.10113420e-06, 3.40600745e-05, 2.16643894e-08,\n",
       "        9.99914527e-01],\n",
       "       [9.52741206e-01, 2.62693144e-12, 2.89642732e-09, 3.95576905e-09,\n",
       "        4.72588614e-02],\n",
       "       [5.77158807e-03, 3.41831692e-05, 4.16107468e-06, 4.46851191e-05,\n",
       "        9.94145393e-01],\n",
       "       [4.99765314e-02, 8.34037304e-01, 1.56401893e-05, 1.15970448e-01,\n",
       "        8.34069311e-08],\n",
       "       [1.08033478e-01, 8.75512540e-01, 1.22169349e-02, 4.23688488e-03,\n",
       "        2.49883215e-07],\n",
       "       [6.07600927e-01, 1.91518120e-04, 3.48844553e-09, 3.73276472e-01,\n",
       "        1.89311057e-02],\n",
       "       [2.00610999e-02, 3.98648083e-01, 2.17037827e-01, 3.15586142e-02,\n",
       "        3.32694352e-01],\n",
       "       [5.56444284e-04, 9.99275148e-01, 1.09566819e-04, 9.60052603e-07,\n",
       "        5.78516956e-05],\n",
       "       [1.41646937e-01, 1.11402804e-02, 7.58342087e-01, 8.53501484e-02,\n",
       "        3.52053577e-03],\n",
       "       [9.84380677e-05, 9.98678029e-01, 3.32086915e-06, 1.16674800e-03,\n",
       "        5.34339706e-05],\n",
       "       [1.06319608e-02, 8.38655233e-01, 3.96986579e-04, 1.50315717e-01,\n",
       "        2.43784770e-09],\n",
       "       [1.12169376e-02, 9.22720972e-03, 1.29707347e-04, 4.00661702e-05,\n",
       "        9.79386032e-01],\n",
       "       [9.41258848e-01, 1.18940312e-03, 2.63124442e-04, 7.07790197e-04,\n",
       "        5.65807857e-02],\n",
       "       [6.71594977e-01, 3.22780341e-01, 4.74500330e-03, 7.62397598e-04,\n",
       "        1.17289295e-04],\n",
       "       [3.48550466e-10, 2.60472851e-04, 7.11878083e-12, 9.99739468e-01,\n",
       "        3.67381533e-14],\n",
       "       [5.14349341e-01, 6.20627217e-03, 4.07021195e-01, 3.23060192e-02,\n",
       "        4.01171930e-02],\n",
       "       [6.39466649e-08, 1.14995534e-10, 2.34391081e-07, 4.06494699e-11,\n",
       "        9.99999642e-01],\n",
       "       [9.92012799e-01, 7.07058012e-09, 7.98696931e-03, 1.66793621e-10,\n",
       "        1.98834016e-07],\n",
       "       [7.27254292e-03, 1.45288413e-06, 2.67004609e-01, 7.05297947e-01,\n",
       "        2.04234440e-02],\n",
       "       [3.86519507e-02, 9.09869375e-14, 2.31148729e-11, 1.20843514e-14,\n",
       "        9.61348057e-01],\n",
       "       [2.96586397e-04, 5.38366152e-09, 1.05442410e-07, 1.79757514e-10,\n",
       "        9.99703228e-01],\n",
       "       [1.73030639e-05, 6.05355133e-04, 1.31290062e-06, 2.97327824e-05,\n",
       "        9.99346316e-01],\n",
       "       [1.08283048e-03, 7.20979214e-01, 1.20049175e-02, 2.53455248e-04,\n",
       "        2.65679628e-01],\n",
       "       [9.73234177e-01, 3.32563650e-05, 5.49521319e-05, 2.66653057e-02,\n",
       "        1.21898665e-05],\n",
       "       [1.78418844e-03, 2.16565877e-02, 9.76430833e-01, 1.28408283e-04,\n",
       "        2.04523273e-11],\n",
       "       [6.77636024e-07, 4.84849316e-09, 4.49462204e-05, 1.12987859e-08,\n",
       "        9.99954343e-01],\n",
       "       [9.39705908e-01, 3.47345173e-02, 5.91276819e-03, 1.95614025e-02,\n",
       "        8.53330130e-05],\n",
       "       [6.81769133e-01, 4.43480164e-03, 2.05375910e-01, 2.07948686e-10,\n",
       "        1.08420171e-01],\n",
       "       [2.92744208e-02, 3.53960581e-06, 2.14049712e-01, 8.21103094e-06,\n",
       "        7.56664097e-01]], dtype=float32)"
      ]
     },
     "execution_count": 43,
     "metadata": {},
     "output_type": "execute_result"
    }
   ],
   "source": [
    "y_pred1"
   ]
  },
  {
   "cell_type": "code",
   "execution_count": 44,
   "id": "0aceb43b-dc5d-422f-b63d-3080d3144770",
   "metadata": {},
   "outputs": [],
   "source": [
    "y_pred=np.argmax(y_pred1,axis=1)"
   ]
  },
  {
   "cell_type": "code",
   "execution_count": 45,
   "id": "cb400179-6cbc-42d7-9348-4a161ad172e3",
   "metadata": {},
   "outputs": [
    {
     "data": {
      "text/plain": [
       "array([0, 1, 1, 0, 1, 2, 3, 3, 3, 0, 2, 4, 4, 2, 0, 2, 4, 0, 0, 1, 0, 3,\n",
       "       1, 2, 2, 4, 2, 4, 2, 2, 1, 3, 2, 2, 4, 3, 1, 0, 0, 3, 0, 2, 3, 4,\n",
       "       4, 2, 3, 4, 3, 2, 2, 2, 4, 0, 3, 3, 2, 4, 4, 2, 3, 1, 4, 3, 1, 0,\n",
       "       3, 3, 4, 1, 3, 2, 4, 3, 1, 3, 3, 0, 1, 1, 2, 1, 1, 1, 3, 1, 2, 2,\n",
       "       1, 3, 2, 3, 4, 2, 4, 4, 2, 0, 4, 3, 3, 1, 4, 2, 4, 2, 2, 1, 3, 1,\n",
       "       2, 1, 0, 0, 3, 1, 0, 4, 0, 4, 2, 2, 4, 4, 1, 0, 0, 0, 0, 3, 1, 0,\n",
       "       0, 2, 4, 1, 0, 3, 3, 1, 3, 4, 2, 3, 3, 3, 4, 1, 4, 2, 4, 3, 4, 2,\n",
       "       0, 0, 0, 4, 2, 1, 1, 1, 0, 0, 3, 1, 4, 1, 2, 4, 3, 4, 0, 4, 1, 1,\n",
       "       0, 1, 1, 2, 1, 1, 4, 0, 0, 3, 0, 4, 0, 3, 4, 4, 4, 1, 0, 2, 4, 0,\n",
       "       0, 4])"
      ]
     },
     "execution_count": 45,
     "metadata": {},
     "output_type": "execute_result"
    }
   ],
   "source": [
    "y_pred"
   ]
  },
  {
   "cell_type": "code",
   "execution_count": 46,
   "id": "8113e9d9-921a-45dc-83ed-e74df1d9d2c9",
   "metadata": {},
   "outputs": [
    {
     "name": "stderr",
     "output_type": "stream",
     "text": [
      "2024-12-12 00:36:33.190637: I tensorflow/core/framework/local_rendezvous.cc:404] Local rendezvous is aborting with status: OUT_OF_RANGE: End of sequence\n"
     ]
    }
   ],
   "source": [
    "y_test=np.concatenate([y for x,y in test_ds],axis=0)\n",
    "y_true=np.argmax(y_test,axis=1)"
   ]
  },
  {
   "cell_type": "code",
   "execution_count": 47,
   "id": "d9a35d11-e70d-4fb3-b1f7-0bf8e430fc86",
   "metadata": {},
   "outputs": [
    {
     "name": "stdout",
     "output_type": "stream",
     "text": [
      "              precision    recall  f1-score   support\n",
      "\n",
      "           0       0.15      0.15      0.15        40\n",
      "           1       0.28      0.28      0.28        40\n",
      "           2       0.13      0.12      0.13        40\n",
      "           3       0.26      0.25      0.25        40\n",
      "           4       0.21      0.23      0.22        40\n",
      "\n",
      "    accuracy                           0.20       200\n",
      "   macro avg       0.20      0.21      0.20       200\n",
      "weighted avg       0.20      0.20      0.20       200\n",
      "\n"
     ]
    }
   ],
   "source": [
    "cr= classification_report(y_true,y_pred)\n",
    "print(cr)"
   ]
  },
  {
   "cell_type": "code",
   "execution_count": 48,
   "id": "9592481a-bd00-452f-bc40-84caca903005",
   "metadata": {},
   "outputs": [
    {
     "data": {
      "text/plain": [
       "<Axes: >"
      ]
     },
     "execution_count": 48,
     "metadata": {},
     "output_type": "execute_result"
    },
    {
     "data": {
      "image/png": "[encoded data removed]",
      "text/plain": [
       "<Figure size 640x480 with 2 Axes>"
      ]
     },
     "metadata": {},
     "output_type": "display_data"
    }
   ],
   "source": [
    "cm= confusion_matrix(y_true,y_pred)\n",
    "sns.heatmap(cm,annot=True,cmap='coolwarm',fmt='d',xticklabels=['Apple','Banna','Grape','Mango','Strawberry'],yticklabels=['Apple','Banna','Grape','Mango','Strawberry'])"
   ]
  },
  {
   "cell_type": "code",
   "execution_count": 49,
   "id": "c65e345b-03c5-47cf-9b2a-ecc9b2c780fe",
   "metadata": {},
   "outputs": [],
   "source": [
    "from tensorflow.keras.preprocessing.image import ImageDataGenerator"
   ]
  },
  {
   "cell_type": "code",
   "execution_count": 35,
   "id": "08b4bc37-605d-47af-9e54-950cea47a6b3",
   "metadata": {},
   "outputs": [],
   "source": [
    "train_ds=ImageDataGenerator(\n",
    "    horizontal_flip=True,\n",
    "    rescale=1./255,\n",
    "    rotation_range=20,\n",
    "    shear_range=0.1,\n",
    ")"
   ]
  },
  {
   "cell_type": "code",
   "execution_count": null,
   "id": "c371da2c-a324-4e9b-96d4-512523d1abe0",
   "metadata": {},
   "outputs": [],
   "source": []
  }
 ],
 "metadata": {
  "kernelspec": {
   "display_name": "Python 3 (ipykernel)",
   "language": "python",
   "name": "python3"
  },
  "language_info": {
   "codemirror_mode": {
    "name": "ipython",
    "version": 3
   },
   "file_extension": ".py",
   "mimetype": "text/x-python",
   "name": "python",
   "nbconvert_exporter": "python",
   "pygments_lexer": "ipython3",
   "version": "3.9.18"
  }
 },
 "nbformat": 4,
 "nbformat_minor": 5
}
