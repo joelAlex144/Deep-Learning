{
 "cells": [
  {
   "cell_type": "markdown",
   "id": "5862b7e3-799c-4e2f-b446-674942053fc0",
   "metadata": {},
   "source": [
    "## Name-Joel Alex Chandy\n",
    "## Reg. NO.-220968408\n",
    "## Dse-b"
   ]
  },
  {
   "cell_type": "code",
   "execution_count": 1,
   "id": "9bef29c3-fcfa-4555-850b-f617050c7d8a",
   "metadata": {},
   "outputs": [
    {
     "name": "stderr",
     "output_type": "stream",
     "text": [
      "2024-12-12 22:04:20.444175: I tensorflow/core/util/port.cc:153] oneDNN custom operations are on. You may see slightly different numerical results due to floating-point round-off errors from different computation orders. To turn them off, set the environment variable `TF_ENABLE_ONEDNN_OPTS=0`.\n",
      "2024-12-12 22:04:20.480443: E external/local_xla/xla/stream_executor/cuda/cuda_fft.cc:485] Unable to register cuFFT factory: Attempting to register factory for plugin cuFFT when one has already been registered\n",
      "2024-12-12 22:04:20.500969: E external/local_xla/xla/stream_executor/cuda/cuda_dnn.cc:8454] Unable to register cuDNN factory: Attempting to register factory for plugin cuDNN when one has already been registered\n",
      "2024-12-12 22:04:20.506337: E external/local_xla/xla/stream_executor/cuda/cuda_blas.cc:1452] Unable to register cuBLAS factory: Attempting to register factory for plugin cuBLAS when one has already been registered\n",
      "2024-12-12 22:04:20.536420: I tensorflow/core/platform/cpu_feature_guard.cc:210] This TensorFlow binary is optimized to use available CPU instructions in performance-critical operations.\n",
      "To enable the following instructions: AVX2 AVX512F AVX512_VNNI FMA, in other operations, rebuild TensorFlow with the appropriate compiler flags.\n",
      "2024-12-12 22:04:21.613945: W tensorflow/compiler/tf2tensorrt/utils/py_utils.cc:38] TF-TRT Warning: Could not find TensorRT\n"
     ]
    }
   ],
   "source": [
    "import pandas as pd\n",
    "import numpy as np\n",
    "import seaborn as sns\n",
    "import matplotlib.pyplot as plt\n",
    "from tensorflow.keras.layers import Dense,Input,SimpleRNN,LSTM,Bidirectional,GRU,Embedding\n",
    "from tensorflow.keras.models import Sequential\n",
    "from tensorflow import keras\n",
    "import re\n",
    "import nltk\n",
    "from nltk.corpus import stopwords\n",
    "from nltk.tokenize import word_tokenize\n",
    "from nltk.stem import WordNetLemmatizer"
   ]
  },
  {
   "cell_type": "code",
   "execution_count": 2,
   "id": "501bf409-b289-47f6-809c-ca25d29f0eb6",
   "metadata": {},
   "outputs": [
    {
     "data": {
      "text/html": [
       "<div>\n",
       "<style scoped>\n",
       "    .dataframe tbody tr th:only-of-type {\n",
       "        vertical-align: middle;\n",
       "    }\n",
       "\n",
       "    .dataframe tbody tr th {\n",
       "        vertical-align: top;\n",
       "    }\n",
       "\n",
       "    .dataframe thead th {\n",
       "        text-align: right;\n",
       "    }\n",
       "</style>\n",
       "<table border=\"1\" class=\"dataframe\">\n",
       "  <thead>\n",
       "    <tr style=\"text-align: right;\">\n",
       "      <th></th>\n",
       "      <th>text</th>\n",
       "      <th>label</th>\n",
       "    </tr>\n",
       "  </thead>\n",
       "  <tbody>\n",
       "    <tr>\n",
       "      <th>0</th>\n",
       "      <td>I grew up (b. 1965) watching and loving the Th...</td>\n",
       "      <td>0</td>\n",
       "    </tr>\n",
       "    <tr>\n",
       "      <th>1</th>\n",
       "      <td>When I put this movie in my DVD player, and sa...</td>\n",
       "      <td>0</td>\n",
       "    </tr>\n",
       "    <tr>\n",
       "      <th>2</th>\n",
       "      <td>Why do people who do not know what a particula...</td>\n",
       "      <td>0</td>\n",
       "    </tr>\n",
       "    <tr>\n",
       "      <th>3</th>\n",
       "      <td>Even though I have great interest in Biblical ...</td>\n",
       "      <td>0</td>\n",
       "    </tr>\n",
       "    <tr>\n",
       "      <th>4</th>\n",
       "      <td>Im a die hard Dads Army fan and nothing will e...</td>\n",
       "      <td>1</td>\n",
       "    </tr>\n",
       "    <tr>\n",
       "      <th>...</th>\n",
       "      <td>...</td>\n",
       "      <td>...</td>\n",
       "    </tr>\n",
       "    <tr>\n",
       "      <th>39995</th>\n",
       "      <td>\"Western Union\" is something of a forgotten cl...</td>\n",
       "      <td>1</td>\n",
       "    </tr>\n",
       "    <tr>\n",
       "      <th>39996</th>\n",
       "      <td>This movie is an incredible piece of work. It ...</td>\n",
       "      <td>1</td>\n",
       "    </tr>\n",
       "    <tr>\n",
       "      <th>39997</th>\n",
       "      <td>My wife and I watched this movie because we pl...</td>\n",
       "      <td>0</td>\n",
       "    </tr>\n",
       "    <tr>\n",
       "      <th>39998</th>\n",
       "      <td>When I first watched Flatliners, I was amazed....</td>\n",
       "      <td>1</td>\n",
       "    </tr>\n",
       "    <tr>\n",
       "      <th>39999</th>\n",
       "      <td>Why would this film be so good, but only gross...</td>\n",
       "      <td>1</td>\n",
       "    </tr>\n",
       "  </tbody>\n",
       "</table>\n",
       "<p>40000 rows × 2 columns</p>\n",
       "</div>"
      ],
      "text/plain": [
       "                                                    text  label\n",
       "0      I grew up (b. 1965) watching and loving the Th...      0\n",
       "1      When I put this movie in my DVD player, and sa...      0\n",
       "2      Why do people who do not know what a particula...      0\n",
       "3      Even though I have great interest in Biblical ...      0\n",
       "4      Im a die hard Dads Army fan and nothing will e...      1\n",
       "...                                                  ...    ...\n",
       "39995  \"Western Union\" is something of a forgotten cl...      1\n",
       "39996  This movie is an incredible piece of work. It ...      1\n",
       "39997  My wife and I watched this movie because we pl...      0\n",
       "39998  When I first watched Flatliners, I was amazed....      1\n",
       "39999  Why would this film be so good, but only gross...      1\n",
       "\n",
       "[40000 rows x 2 columns]"
      ]
     },
     "execution_count": 2,
     "metadata": {},
     "output_type": "execute_result"
    }
   ],
   "source": [
    "train_df= pd.read_csv('Train.csv')\n",
    "train_df"
   ]
  },
  {
   "cell_type": "code",
   "execution_count": 3,
   "id": "451ffeec-57c5-45b6-8216-9b92a4e8a005",
   "metadata": {},
   "outputs": [
    {
     "data": {
      "text/html": [
       "<div>\n",
       "<style scoped>\n",
       "    .dataframe tbody tr th:only-of-type {\n",
       "        vertical-align: middle;\n",
       "    }\n",
       "\n",
       "    .dataframe tbody tr th {\n",
       "        vertical-align: top;\n",
       "    }\n",
       "\n",
       "    .dataframe thead th {\n",
       "        text-align: right;\n",
       "    }\n",
       "</style>\n",
       "<table border=\"1\" class=\"dataframe\">\n",
       "  <thead>\n",
       "    <tr style=\"text-align: right;\">\n",
       "      <th></th>\n",
       "      <th>text</th>\n",
       "      <th>label</th>\n",
       "    </tr>\n",
       "  </thead>\n",
       "  <tbody>\n",
       "    <tr>\n",
       "      <th>0</th>\n",
       "      <td>I always wrote this series off as being a comp...</td>\n",
       "      <td>0</td>\n",
       "    </tr>\n",
       "    <tr>\n",
       "      <th>1</th>\n",
       "      <td>1st watched 12/7/2002 - 3 out of 10(Dir-Steve ...</td>\n",
       "      <td>0</td>\n",
       "    </tr>\n",
       "    <tr>\n",
       "      <th>2</th>\n",
       "      <td>This movie was so poorly written and directed ...</td>\n",
       "      <td>0</td>\n",
       "    </tr>\n",
       "    <tr>\n",
       "      <th>3</th>\n",
       "      <td>The most interesting thing about Miryang (Secr...</td>\n",
       "      <td>1</td>\n",
       "    </tr>\n",
       "    <tr>\n",
       "      <th>4</th>\n",
       "      <td>when i first read about \"berlin am meer\" i did...</td>\n",
       "      <td>0</td>\n",
       "    </tr>\n",
       "    <tr>\n",
       "      <th>...</th>\n",
       "      <td>...</td>\n",
       "      <td>...</td>\n",
       "    </tr>\n",
       "    <tr>\n",
       "      <th>4995</th>\n",
       "      <td>This is the kind of picture John Lassiter woul...</td>\n",
       "      <td>1</td>\n",
       "    </tr>\n",
       "    <tr>\n",
       "      <th>4996</th>\n",
       "      <td>A MUST SEE! I saw WHIPPED at a press screening...</td>\n",
       "      <td>1</td>\n",
       "    </tr>\n",
       "    <tr>\n",
       "      <th>4997</th>\n",
       "      <td>NBC should be ashamed. I wouldn't allow my chi...</td>\n",
       "      <td>0</td>\n",
       "    </tr>\n",
       "    <tr>\n",
       "      <th>4998</th>\n",
       "      <td>This movie is a clumsy mishmash of various gho...</td>\n",
       "      <td>0</td>\n",
       "    </tr>\n",
       "    <tr>\n",
       "      <th>4999</th>\n",
       "      <td>Formula movie about the illegitimate son of a ...</td>\n",
       "      <td>0</td>\n",
       "    </tr>\n",
       "  </tbody>\n",
       "</table>\n",
       "<p>5000 rows × 2 columns</p>\n",
       "</div>"
      ],
      "text/plain": [
       "                                                   text  label\n",
       "0     I always wrote this series off as being a comp...      0\n",
       "1     1st watched 12/7/2002 - 3 out of 10(Dir-Steve ...      0\n",
       "2     This movie was so poorly written and directed ...      0\n",
       "3     The most interesting thing about Miryang (Secr...      1\n",
       "4     when i first read about \"berlin am meer\" i did...      0\n",
       "...                                                 ...    ...\n",
       "4995  This is the kind of picture John Lassiter woul...      1\n",
       "4996  A MUST SEE! I saw WHIPPED at a press screening...      1\n",
       "4997  NBC should be ashamed. I wouldn't allow my chi...      0\n",
       "4998  This movie is a clumsy mishmash of various gho...      0\n",
       "4999  Formula movie about the illegitimate son of a ...      0\n",
       "\n",
       "[5000 rows x 2 columns]"
      ]
     },
     "execution_count": 3,
     "metadata": {},
     "output_type": "execute_result"
    }
   ],
   "source": [
    "test_df=pd.read_csv('Test.csv')\n",
    "test_df"
   ]
  },
  {
   "cell_type": "code",
   "execution_count": 4,
   "id": "d0936b7e-b27a-4a06-8910-741cd867400c",
   "metadata": {},
   "outputs": [
    {
     "data": {
      "text/html": [
       "<div>\n",
       "<style scoped>\n",
       "    .dataframe tbody tr th:only-of-type {\n",
       "        vertical-align: middle;\n",
       "    }\n",
       "\n",
       "    .dataframe tbody tr th {\n",
       "        vertical-align: top;\n",
       "    }\n",
       "\n",
       "    .dataframe thead th {\n",
       "        text-align: right;\n",
       "    }\n",
       "</style>\n",
       "<table border=\"1\" class=\"dataframe\">\n",
       "  <thead>\n",
       "    <tr style=\"text-align: right;\">\n",
       "      <th></th>\n",
       "      <th>text</th>\n",
       "      <th>label</th>\n",
       "    </tr>\n",
       "  </thead>\n",
       "  <tbody>\n",
       "    <tr>\n",
       "      <th>0</th>\n",
       "      <td>It's been about 14 years since Sharon Stone aw...</td>\n",
       "      <td>0</td>\n",
       "    </tr>\n",
       "    <tr>\n",
       "      <th>1</th>\n",
       "      <td>someone needed to make a car payment... this i...</td>\n",
       "      <td>0</td>\n",
       "    </tr>\n",
       "    <tr>\n",
       "      <th>2</th>\n",
       "      <td>The Guidelines state that a comment must conta...</td>\n",
       "      <td>0</td>\n",
       "    </tr>\n",
       "    <tr>\n",
       "      <th>3</th>\n",
       "      <td>This movie is a muddled mish-mash of clichés f...</td>\n",
       "      <td>0</td>\n",
       "    </tr>\n",
       "    <tr>\n",
       "      <th>4</th>\n",
       "      <td>Before Stan Laurel became the smaller half of ...</td>\n",
       "      <td>0</td>\n",
       "    </tr>\n",
       "    <tr>\n",
       "      <th>...</th>\n",
       "      <td>...</td>\n",
       "      <td>...</td>\n",
       "    </tr>\n",
       "    <tr>\n",
       "      <th>4995</th>\n",
       "      <td>Man, I loved this movie! This really takes me ...</td>\n",
       "      <td>1</td>\n",
       "    </tr>\n",
       "    <tr>\n",
       "      <th>4996</th>\n",
       "      <td>Recovery is an incredibly moving piece of work...</td>\n",
       "      <td>1</td>\n",
       "    </tr>\n",
       "    <tr>\n",
       "      <th>4997</th>\n",
       "      <td>You can take the crook out of the joint, but i...</td>\n",
       "      <td>1</td>\n",
       "    </tr>\n",
       "    <tr>\n",
       "      <th>4998</th>\n",
       "      <td>FUTZ is the only show preserved from the exper...</td>\n",
       "      <td>1</td>\n",
       "    </tr>\n",
       "    <tr>\n",
       "      <th>4999</th>\n",
       "      <td>\"The Mother\" tells of a recently widowed mid-6...</td>\n",
       "      <td>1</td>\n",
       "    </tr>\n",
       "  </tbody>\n",
       "</table>\n",
       "<p>5000 rows × 2 columns</p>\n",
       "</div>"
      ],
      "text/plain": [
       "                                                   text  label\n",
       "0     It's been about 14 years since Sharon Stone aw...      0\n",
       "1     someone needed to make a car payment... this i...      0\n",
       "2     The Guidelines state that a comment must conta...      0\n",
       "3     This movie is a muddled mish-mash of clichés f...      0\n",
       "4     Before Stan Laurel became the smaller half of ...      0\n",
       "...                                                 ...    ...\n",
       "4995  Man, I loved this movie! This really takes me ...      1\n",
       "4996  Recovery is an incredibly moving piece of work...      1\n",
       "4997  You can take the crook out of the joint, but i...      1\n",
       "4998  FUTZ is the only show preserved from the exper...      1\n",
       "4999  \"The Mother\" tells of a recently widowed mid-6...      1\n",
       "\n",
       "[5000 rows x 2 columns]"
      ]
     },
     "execution_count": 4,
     "metadata": {},
     "output_type": "execute_result"
    }
   ],
   "source": [
    "valid_df=pd.read_csv('Valid.csv')\n",
    "valid_df"
   ]
  },
  {
   "cell_type": "code",
   "execution_count": 5,
   "id": "185ffa47-32bd-40ad-a1e7-b394d05bfea9",
   "metadata": {},
   "outputs": [
    {
     "name": "stderr",
     "output_type": "stream",
     "text": [
      "[nltk_data] Downloading package stopwords to /home/jac/nltk_data...\n",
      "[nltk_data]   Package stopwords is already up-to-date!\n",
      "[nltk_data] Error loading punkt_tabs: Package 'punkt_tabs' not found\n",
      "[nltk_data]     in index\n",
      "[nltk_data] Downloading package wordnet to /home/jac/nltk_data...\n",
      "[nltk_data]   Package wordnet is already up-to-date!\n"
     ]
    }
   ],
   "source": [
    "nltk.download('stopwords')\n",
    "nltk.download('punkt_tabs')\n",
    "nltk.download('wordnet')\n",
    "\n",
    "stop_words=set(stopwords.words('english'))\n",
    "lemmatizer=WordNetLemmatizer()"
   ]
  },
  {
   "cell_type": "code",
   "execution_count": 6,
   "id": "1b4fa1a8-d51e-4fd3-81c5-b9cde7395c74",
   "metadata": {},
   "outputs": [],
   "source": [
    "def clean_df(text):\n",
    "    text=re.sub(r'https:\\S+|www.\\S+|http:\\S+',' ',text)\n",
    "    text=re.sub(r'[^\\w\\s]',' ',text)\n",
    "    text=' '.join([word for word in text.split() if word not in stop_words])\n",
    "    tokens=word_tokenize(text)\n",
    "    lemmatized_text=[lemmatizer.lemmatize(token,pos='v') for token in tokens]\n",
    "    return ' '.join(lemmatized_text)"
   ]
  },
  {
   "cell_type": "code",
   "execution_count": 7,
   "id": "a1fb27fa-573b-4edf-839c-ad2ef7543825",
   "metadata": {},
   "outputs": [],
   "source": [
    "train_df['cleaned_text']=train_df['text'].apply(clean_df)\n"
   ]
  },
  {
   "cell_type": "code",
   "execution_count": 8,
   "id": "089849f1-8320-4786-9941-cb4b3aed6970",
   "metadata": {},
   "outputs": [],
   "source": [
    "test_df['cleaned_text']=test_df['text'].apply(clean_df)\n",
    "valid_df['cleaned_text']=valid_df['text'].apply(clean_df)"
   ]
  },
  {
   "cell_type": "code",
   "execution_count": 9,
   "id": "0acd0cf5-e87e-4892-a1fc-83a83fd977b7",
   "metadata": {},
   "outputs": [
    {
     "data": {
      "text/plain": [
       "'Why people know particular time past like feel need try define time others Replace Woodstock Civil War Apollo moon land Titanic sink get realistic flick formulaic soap opera populate entirely low life trash Is kid young allow go Woodstock fail grade school composition I show old meanies I put movie prove know nuttin topic still make money Yeah already know The one thing watch film give little insight underclass think The next time I see slut bar look like Diane Lane I run way It child abuse let parent worthless raise kid It audience abuse simply stick Woodstock moonlanding flick ipso facto mean film portray 1969'"
      ]
     },
     "execution_count": 9,
     "metadata": {},
     "output_type": "execute_result"
    }
   ],
   "source": [
    "train_df['cleaned_text'][2]"
   ]
  },
  {
   "cell_type": "code",
   "execution_count": 20,
   "id": "9e6e7512-31fa-421a-9645-b6fe6aca6a4d",
   "metadata": {},
   "outputs": [],
   "source": [
    "x_train=train_df['cleaned_text'].values\n",
    "y_train=train_df['label'].values\n",
    "\n",
    "x_test=test_df['cleaned_text'].values\n",
    "y_test=test_df['label'].values\n",
    "\n",
    "x_valid=valid_df['cleaned_text'].values\n",
    "y_valid=valid_df[['label']].values"
   ]
  },
  {
   "cell_type": "code",
   "execution_count": 21,
   "id": "ba863761-b5f3-48a3-b2c3-67e66b20180d",
   "metadata": {},
   "outputs": [],
   "source": [
    "from tensorflow.keras.preprocessing.text import Tokenizer\n",
    "from tensorflow.keras.preprocessing.sequence import pad_sequences\n"
   ]
  },
  {
   "cell_type": "code",
   "execution_count": 22,
   "id": "bd41694d-9562-4aef-8bcb-10c8b9bb05f8",
   "metadata": {},
   "outputs": [],
   "source": [
    "max_features =10000\n",
    "maxlen=500"
   ]
  },
  {
   "cell_type": "code",
   "execution_count": 23,
   "id": "a673241c-f503-4acd-bbd0-bc3728fd3d27",
   "metadata": {},
   "outputs": [],
   "source": [
    "from tensorflow.keras.preprocessing.text import Tokenizer\n",
    "from tensorflow.keras.preprocessing.sequence import pad_sequences\n",
    "tokenizer= Tokenizer(num_words=max_features)\n"
   ]
  },
  {
   "cell_type": "code",
   "execution_count": 24,
   "id": "df970ff1-71b9-41af-8a71-1997b31537d2",
   "metadata": {},
   "outputs": [],
   "source": [
    "tokenizer.fit_on_texts(x_train)\n",
    "x_train_seq=tokenizer.texts_to_sequences(x_train)\n",
    "x_test_seq=tokenizer.texts_to_sequences(x_test)\n",
    "x_valid_seq=tokenizer.texts_to_sequences(x_valid)\n"
   ]
  },
  {
   "cell_type": "code",
   "execution_count": 25,
   "id": "30d098ea-c3f4-48c0-a552-7af63c2555e1",
   "metadata": {},
   "outputs": [
    {
     "data": {
      "text/plain": [
       "array(['I grow b 1965 watch love Thunderbirds All mat school watch We play Thunderbirds school lunch school We want Virgil Scott No one want Alan Counting 5 become art form I take children see movie hop would get glimpse I love child How bitterly disappoint The high point snappy theme tune Not could compare original score Thunderbirds Thankfully early Saturday mornings one television channel still play rerun series Gerry Anderson wife create Jonatha Frakes hand directors chair version completely hopeless A waste film Utter rubbish A CGI remake may acceptable replace marionettes Homo sapiens subsp sapiens huge error judgment',\n",
       "       'When I put movie DVD player sit coke chip I expectations I hop movie would contain strong point first movie Awsome animation good flow story excellent voice cast funny comedy kick ass soundtrack But disappointment find Atlantis Milo Return Had I read review first I might let The follow paragraph direct see first movie enjoy primarily point mention br br When first scene appear shock pick Atlantis Milo Return display case local videoshop whatever expectations I The music feel bad imitation first movie voice cast replace fit one With exception character like voice Sweet The actual drawings isnt bad animation particular sad sight The storyline also pretty weak like three episodes Schooby Doo single adventurous story get last time But dont misunderstand good Schooby Doo episodes I didnt laugh single time although I might snigger twice br br To audience see first movie especially care similar sequel fast review movie stand alone product If like schooby doo might like movie If could still enjoy movie nothing else And I suspect might good kid movie I know It might better Milo Return three episode series cartoon channel breakfast TV',\n",
       "       'Why people know particular time past like feel need try define time others Replace Woodstock Civil War Apollo moon land Titanic sink get realistic flick formulaic soap opera populate entirely low life trash Is kid young allow go Woodstock fail grade school composition I show old meanies I put movie prove know nuttin topic still make money Yeah already know The one thing watch film give little insight underclass think The next time I see slut bar look like Diane Lane I run way It child abuse let parent worthless raise kid It audience abuse simply stick Woodstock moonlanding flick ipso facto mean film portray 1969',\n",
       "       ...,\n",
       "       'My wife I watch movie plan visit Sicily Stromboli soon Fortunately unfortunately landscape seascape complete tuna believable members cast We expect reasonable well write well act movie disappoint Its redeem grace extend remarkable fish sequence full authenticity thrash tuna net wooden boat long oars passionate superstitious fishermen br br The movie sequence stagy dialogue stilted act range stiff completely top One scene Bergman stress macho native naïve husband sic ferret innocent apparently already decease rabbit would perfect grist Monty Python skit br br When volcano blow hop merciful end suffer cast Unfortunately movie continue flail stagger finally melodramatic absurd end Unless really old time tuna fish pass hokey effort',\n",
       "       'When I first watch Flatliners I amaze It necessary feature good movie cast superb plot superb case thrillers genuine thrill throughout br br Keifer Sutherland offer marvelous performance male lead piece portray scientist believe find answer life death kill come back life essentially steal death secrets away Kevin Bacon offer excellent performance morally decent counterpart Keifer Julia Roberts offer convince role William Baldwin portray student excel class apparently intercourse And Oliver Platt another outstanding performance portray voice reason group innocent br br The story relatively simple yet original act refresh definitely stand film genre one set standard measure thrillers br br 8 10',\n",
       "       'Why would film good gross estimate 95 000 000 NO award nominations John Travolta know He know Michael cigar smoke womanize magical arch angel come live die lady car staff The National Mirror dog Sparky way Chicago It turn road trip horrible AND great I even think death scenes 3 exact make tearjerker The soundtrack best Heaven Is My Home Up Around The Bend Chains Of Fools I great expectations I say little respect 90 Read comment Bye'],\n",
       "      dtype=object)"
      ]
     },
     "execution_count": 25,
     "metadata": {},
     "output_type": "execute_result"
    }
   ],
   "source": [
    "x_train"
   ]
  },
  {
   "cell_type": "code",
   "execution_count": 27,
   "id": "a20ca036-7947-4b27-b574-7e326c4dccba",
   "metadata": {},
   "outputs": [],
   "source": [
    "x_train_pad=pad_sequences(x_train_seq,maxlen=maxlen)\n",
    "x_test_pad=pad_sequences(x_test_seq,maxlen=maxlen)\n",
    "x_valid_pad=pad_sequences(x_valid_seq,maxlen=maxlen)"
   ]
  },
  {
   "cell_type": "code",
   "execution_count": 28,
   "id": "18cca0d5-25f7-4514-b9f1-a6ba359893ff",
   "metadata": {},
   "outputs": [
    {
     "name": "stdout",
     "output_type": "stream",
     "text": [
      "the training data Shape is: (40000, 500)\n"
     ]
    }
   ],
   "source": [
    "print(f'the training data Shape is: {x_train_pad.shape}')"
   ]
  },
  {
   "cell_type": "code",
   "execution_count": 29,
   "id": "e7e1060e-1831-4421-a98d-e4acd5bdd473",
   "metadata": {},
   "outputs": [
    {
     "data": {
      "text/plain": [
       "(40000,)"
      ]
     },
     "execution_count": 29,
     "metadata": {},
     "output_type": "execute_result"
    }
   ],
   "source": [
    "y_train.shape"
   ]
  },
  {
   "cell_type": "code",
   "execution_count": 30,
   "id": "2349a6ea-8f11-4daa-94e6-e4dc003e3210",
   "metadata": {},
   "outputs": [
    {
     "data": {
      "text/plain": [
       "(40000, 500)"
      ]
     },
     "execution_count": 30,
     "metadata": {},
     "output_type": "execute_result"
    }
   ],
   "source": [
    "x_train_pad.shape"
   ]
  },
  {
   "cell_type": "code",
   "execution_count": 31,
   "id": "b8cb78c0-ac34-4d97-91c1-2df15c967e68",
   "metadata": {},
   "outputs": [
    {
     "name": "stderr",
     "output_type": "stream",
     "text": [
      "WARNING: All log messages before absl::InitializeLog() is called are written to STDERR\n",
      "I0000 00:00:1734021536.979627  262398 cuda_executor.cc:1001] could not open file to read NUMA node: /sys/bus/pci/devices/0000:01:00.0/numa_node\n",
      "Your kernel may have been built without NUMA support.\n",
      "I0000 00:00:1734021537.354609  262398 cuda_executor.cc:1001] could not open file to read NUMA node: /sys/bus/pci/devices/0000:01:00.0/numa_node\n",
      "Your kernel may have been built without NUMA support.\n",
      "I0000 00:00:1734021537.354665  262398 cuda_executor.cc:1001] could not open file to read NUMA node: /sys/bus/pci/devices/0000:01:00.0/numa_node\n",
      "Your kernel may have been built without NUMA support.\n",
      "I0000 00:00:1734021537.359200  262398 cuda_executor.cc:1001] could not open file to read NUMA node: /sys/bus/pci/devices/0000:01:00.0/numa_node\n",
      "Your kernel may have been built without NUMA support.\n",
      "I0000 00:00:1734021537.359407  262398 cuda_executor.cc:1001] could not open file to read NUMA node: /sys/bus/pci/devices/0000:01:00.0/numa_node\n",
      "Your kernel may have been built without NUMA support.\n",
      "I0000 00:00:1734021537.359433  262398 cuda_executor.cc:1001] could not open file to read NUMA node: /sys/bus/pci/devices/0000:01:00.0/numa_node\n",
      "Your kernel may have been built without NUMA support.\n",
      "I0000 00:00:1734021537.711339  262398 cuda_executor.cc:1001] could not open file to read NUMA node: /sys/bus/pci/devices/0000:01:00.0/numa_node\n",
      "Your kernel may have been built without NUMA support.\n",
      "I0000 00:00:1734021537.711535  262398 cuda_executor.cc:1001] could not open file to read NUMA node: /sys/bus/pci/devices/0000:01:00.0/numa_node\n",
      "Your kernel may have been built without NUMA support.\n",
      "2024-12-12 22:08:57.711564: I tensorflow/core/common_runtime/gpu/gpu_device.cc:2112] Could not identify NUMA node of platform GPU id 0, defaulting to 0.  Your kernel may not have been built with NUMA support.\n",
      "I0000 00:00:1734021537.711664  262398 cuda_executor.cc:1001] could not open file to read NUMA node: /sys/bus/pci/devices/0000:01:00.0/numa_node\n",
      "Your kernel may have been built without NUMA support.\n",
      "2024-12-12 22:08:57.711784: I tensorflow/core/common_runtime/gpu/gpu_device.cc:2021] Created device /job:localhost/replica:0/task:0/device:GPU:0 with 3586 MB memory:  -> device: 0, name: NVIDIA GeForce RTX 3060 Laptop GPU, pci bus id: 0000:01:00.0, compute capability: 8.6\n"
     ]
    }
   ],
   "source": [
    "lstm=Sequential([\n",
    "    Embedding(input_dim=max_features,output_dim=128),\n",
    "    LSTM(128,return_sequences=True),\n",
    "    keras.layers.BatchNormalization(),\n",
    "    keras.layers.Dropout(0.5),\n",
    "    LSTM(64,return_sequences=True),\n",
    "    keras.layers.BatchNormalization(),\n",
    "    keras.layers.Dropout(0.2),\n",
    "    LSTM(32),\n",
    "    keras.layers.BatchNormalization(),\n",
    "    keras.layers.Dropout(0.2), \n",
    "    Dense(2,activation='softmax')\n",
    "])"
   ]
  },
  {
   "cell_type": "code",
   "execution_count": 33,
   "id": "80b5daa7-a193-4ed8-9bd8-12cc15395cd3",
   "metadata": {},
   "outputs": [],
   "source": [
    "lstm.compile(optimizer=keras.optimizers.Adam(0.0001),loss='sparse_categorical_crossentropy',metrics=['accuracy'])"
   ]
  },
  {
   "cell_type": "code",
   "execution_count": 34,
   "id": "7704d748-2069-499e-88ac-edf6e24a86c1",
   "metadata": {},
   "outputs": [
    {
     "name": "stdout",
     "output_type": "stream",
     "text": [
      "Epoch 1/10\n"
     ]
    },
    {
     "name": "stderr",
     "output_type": "stream",
     "text": [
      "2024-12-12 22:10:08.118399: I external/local_xla/xla/stream_executor/cuda/cuda_dnn.cc:531] Loaded cuDNN version 8907\n"
     ]
    },
    {
     "name": "stdout",
     "output_type": "stream",
     "text": [
      "\u001b[1m313/313\u001b[0m \u001b[32m━━━━━━━━━━━━━━━━━━━━\u001b[0m\u001b[37m\u001b[0m \u001b[1m40s\u001b[0m 110ms/step - accuracy: 0.5338 - loss: 0.8937 - val_accuracy: 0.5984 - val_loss: 0.6324\n",
      "Epoch 2/10\n",
      "\u001b[1m313/313\u001b[0m \u001b[32m━━━━━━━━━━━━━━━━━━━━\u001b[0m\u001b[37m\u001b[0m \u001b[1m34s\u001b[0m 108ms/step - accuracy: 0.8102 - loss: 0.4217 - val_accuracy: 0.8524 - val_loss: 0.3445\n",
      "Epoch 3/10\n",
      "\u001b[1m313/313\u001b[0m \u001b[32m━━━━━━━━━━━━━━━━━━━━\u001b[0m\u001b[37m\u001b[0m \u001b[1m34s\u001b[0m 109ms/step - accuracy: 0.8928 - loss: 0.2676 - val_accuracy: 0.8778 - val_loss: 0.3103\n",
      "Epoch 4/10\n",
      "\u001b[1m313/313\u001b[0m \u001b[32m━━━━━━━━━━━━━━━━━━━━\u001b[0m\u001b[37m\u001b[0m \u001b[1m34s\u001b[0m 108ms/step - accuracy: 0.9192 - loss: 0.2128 - val_accuracy: 0.8760 - val_loss: 0.3361\n",
      "Epoch 5/10\n",
      "\u001b[1m313/313\u001b[0m \u001b[32m━━━━━━━━━━━━━━━━━━━━\u001b[0m\u001b[37m\u001b[0m \u001b[1m35s\u001b[0m 111ms/step - accuracy: 0.9262 - loss: 0.1894 - val_accuracy: 0.8936 - val_loss: 0.2938\n",
      "Epoch 6/10\n",
      "\u001b[1m313/313\u001b[0m \u001b[32m━━━━━━━━━━━━━━━━━━━━\u001b[0m\u001b[37m\u001b[0m \u001b[1m34s\u001b[0m 108ms/step - accuracy: 0.9401 - loss: 0.1691 - val_accuracy: 0.8884 - val_loss: 0.3049\n",
      "Epoch 7/10\n",
      "\u001b[1m313/313\u001b[0m \u001b[32m━━━━━━━━━━━━━━━━━━━━\u001b[0m\u001b[37m\u001b[0m \u001b[1m34s\u001b[0m 109ms/step - accuracy: 0.9486 - loss: 0.1479 - val_accuracy: 0.8942 - val_loss: 0.3178\n",
      "Epoch 8/10\n",
      "\u001b[1m313/313\u001b[0m \u001b[32m━━━━━━━━━━━━━━━━━━━━\u001b[0m\u001b[37m\u001b[0m \u001b[1m35s\u001b[0m 111ms/step - accuracy: 0.9533 - loss: 0.1364 - val_accuracy: 0.8890 - val_loss: 0.3519\n"
     ]
    }
   ],
   "source": [
    "his=lstm.fit(x_train_pad,y_train,epochs=10,batch_size=128,validation_data=(x_valid_pad,y_valid),callbacks=keras.callbacks.EarlyStopping(patience=3))"
   ]
  },
  {
   "cell_type": "markdown",
   "id": "a460b439-32d8-4ea5-9b39-0af56d9310f4",
   "metadata": {},
   "source": [
    "## GRU"
   ]
  },
  {
   "cell_type": "code",
   "execution_count": 37,
   "id": "6331579a-d6a5-48d2-925f-8465bf7e11e5",
   "metadata": {},
   "outputs": [],
   "source": [
    "gru=Sequential([\n",
    "    Embedding(input_dim=max_features,output_dim=128),\n",
    "    GRU(128,return_sequences=True,dropout=0.1),\n",
    "    GRU(64,return_sequences=True,dropout=0.1),\n",
    "    GRU(32),\n",
    "    Dense(2,activation='softmax')\n",
    "])"
   ]
  },
  {
   "cell_type": "code",
   "execution_count": 38,
   "id": "e25a67eb-5e5a-445d-992b-c3bde9d5a0e8",
   "metadata": {},
   "outputs": [],
   "source": [
    "gru.compile(optimizer='adam',loss='sparse_categorical_crossentropy',metrics=['accuracy'])"
   ]
  },
  {
   "cell_type": "code",
   "execution_count": 39,
   "id": "ebbe6229-c0a2-4cae-afda-4dd3a5a82023",
   "metadata": {},
   "outputs": [
    {
     "name": "stdout",
     "output_type": "stream",
     "text": [
      "Epoch 1/10\n",
      "\u001b[1m313/313\u001b[0m \u001b[32m━━━━━━━━━━━━━━━━━━━━\u001b[0m\u001b[37m\u001b[0m \u001b[1m31s\u001b[0m 94ms/step - accuracy: 0.7534 - loss: 0.4812 - val_accuracy: 0.8864 - val_loss: 0.2855\n",
      "Epoch 2/10\n",
      "\u001b[1m313/313\u001b[0m \u001b[32m━━━━━━━━━━━━━━━━━━━━\u001b[0m\u001b[37m\u001b[0m \u001b[1m30s\u001b[0m 95ms/step - accuracy: 0.9101 - loss: 0.2300 - val_accuracy: 0.8894 - val_loss: 0.2933\n",
      "Epoch 3/10\n",
      "\u001b[1m313/313\u001b[0m \u001b[32m━━━━━━━━━━━━━━━━━━━━\u001b[0m\u001b[37m\u001b[0m \u001b[1m29s\u001b[0m 93ms/step - accuracy: 0.9418 - loss: 0.1589 - val_accuracy: 0.8954 - val_loss: 0.3225\n",
      "Epoch 4/10\n",
      "\u001b[1m313/313\u001b[0m \u001b[32m━━━━━━━━━━━━━━━━━━━━\u001b[0m\u001b[37m\u001b[0m \u001b[1m29s\u001b[0m 94ms/step - accuracy: 0.9579 - loss: 0.1188 - val_accuracy: 0.8894 - val_loss: 0.3373\n"
     ]
    }
   ],
   "source": [
    "his_gru=gru.fit(x_train_pad,y_train,epochs=10,batch_size=128,validation_data=(x_valid_pad,y_valid),callbacks=keras.callbacks.EarlyStopping(patience=3))"
   ]
  },
  {
   "cell_type": "markdown",
   "id": "372d5f67-8d3c-4583-ab20-97756f6fea7a",
   "metadata": {},
   "source": [
    "## Bi-directional rnn with 5 Layers"
   ]
  },
  {
   "cell_type": "code",
   "execution_count": 40,
   "id": "416749a3-92b2-45b9-8f4a-33f34cc685f4",
   "metadata": {},
   "outputs": [],
   "source": [
    "birnn=Sequential([\n",
    "    Embedding(input_dim=max_features,output_dim=128),\n",
    "    Bidirectional(SimpleRNN(128,return_sequences=True,dropout=0.5)),\n",
    "    keras.layers.BatchNormalization(),\n",
    "    Bidirectional(SimpleRNN(128,return_sequences=True,dropout=0.2)),\n",
    "    #keras.layers.BatchNormalization(),\n",
    "    Bidirectional(SimpleRNN(64,return_sequences=True,dropout=0.2)),\n",
    "    keras.layers.BatchNormalization(),\n",
    "    Bidirectional(SimpleRNN(32,return_sequences=True,dropout=0.1)),\n",
    "    keras.layers.BatchNormalization(),\n",
    "    Bidirectional(SimpleRNN(16,return_sequences=False,dropout=0.1)),\n",
    "    Dense(2,activation='softmax')\n",
    "])\n"
   ]
  },
  {
   "cell_type": "code",
   "execution_count": 41,
   "id": "fa1c8585-17d5-4104-a23c-a74bb0c8d5f1",
   "metadata": {},
   "outputs": [],
   "source": [
    "birnn.compile(optimizer='adam',loss='sparse_categorical_crossentropy',metrics=['accuracy'])"
   ]
  },
  {
   "cell_type": "code",
   "execution_count": 42,
   "id": "5c26f20c-6e85-4882-a5e8-ec17947ae8ff",
   "metadata": {},
   "outputs": [
    {
     "name": "stdout",
     "output_type": "stream",
     "text": [
      "Epoch 1/3\n"
     ]
    },
    {
     "name": "stderr",
     "output_type": "stream",
     "text": [
      "WARNING: All log messages before absl::InitializeLog() is called are written to STDERR\n",
      "I0000 00:00:1734022139.599861  262665 service.cc:146] XLA service 0x5624d89fef80 initialized for platform CUDA (this does not guarantee that XLA will be used). Devices:\n",
      "I0000 00:00:1734022139.600032  262665 service.cc:154]   StreamExecutor device (0): NVIDIA GeForce RTX 3060 Laptop GPU, Compute Capability 8.6\n",
      "2024-12-12 22:18:59.791158: I tensorflow/compiler/mlir/tensorflow/utils/dump_mlir_util.cc:268] disabling MLIR crash reproducer, set env var `MLIR_CRASH_REPRODUCER_DIRECTORY` to enable.\n",
      "2024-12-12 22:19:02.946119: I external/local_xla/xla/stream_executor/cuda/cuda_asm_compiler.cc:393] ptxas warning : Registers are spilled to local memory in function 'gemm_fusion_dot_329', 8 bytes spill stores, 8 bytes spill loads\n",
      "\n",
      "2024-12-12 22:19:07.953941: I external/local_xla/xla/stream_executor/cuda/cuda_asm_compiler.cc:393] ptxas warning : Registers are spilled to local memory in function 'loop_add_subtract_fusion_16', 8 bytes spill stores, 24 bytes spill loads\n",
      "\n",
      "I0000 00:00:1734022148.032159  262665 device_compiler.h:188] Compiled cluster using XLA!  This line is logged at most once for the lifetime of the process.\n"
     ]
    },
    {
     "name": "stdout",
     "output_type": "stream",
     "text": [
      "\u001b[1m312/313\u001b[0m \u001b[32m━━━━━━━━━━━━━━━━━━━\u001b[0m\u001b[37m━\u001b[0m \u001b[1m0s\u001b[0m 535ms/step - accuracy: 0.4989 - loss: 0.7327"
     ]
    },
    {
     "name": "stderr",
     "output_type": "stream",
     "text": [
      "2024-12-12 22:22:02.852947: I external/local_xla/xla/stream_executor/cuda/cuda_asm_compiler.cc:393] ptxas warning : Registers are spilled to local memory in function 'loop_add_subtract_fusion_16', 8 bytes spill stores, 24 bytes spill loads\n",
      "\n"
     ]
    },
    {
     "name": "stdout",
     "output_type": "stream",
     "text": [
      "\u001b[1m313/313\u001b[0m \u001b[32m━━━━━━━━━━━━━━━━━━━━\u001b[0m\u001b[37m\u001b[0m \u001b[1m201s\u001b[0m 598ms/step - accuracy: 0.4989 - loss: 0.7326 - val_accuracy: 0.4972 - val_loss: 0.6941\n",
      "Epoch 2/3\n",
      "\u001b[1m313/313\u001b[0m \u001b[32m━━━━━━━━━━━━━━━━━━━━\u001b[0m\u001b[37m\u001b[0m \u001b[1m185s\u001b[0m 590ms/step - accuracy: 0.6079 - loss: 0.6401 - val_accuracy: 0.5030 - val_loss: 2.1354\n",
      "Epoch 3/3\n",
      "\u001b[1m313/313\u001b[0m \u001b[32m━━━━━━━━━━━━━━━━━━━━\u001b[0m\u001b[37m\u001b[0m \u001b[1m193s\u001b[0m 615ms/step - accuracy: 0.7543 - loss: 0.5091 - val_accuracy: 0.5128 - val_loss: 0.6811\n"
     ]
    }
   ],
   "source": [
    "his_birnn=birnn.fit(x_train_pad,y_train,epochs=3,batch_size=128,validation_data=(x_valid_pad,y_valid))"
   ]
  },
  {
   "cell_type": "code",
   "execution_count": 43,
   "id": "ecaf6c14-7c95-4b11-ba47-6070fac01959",
   "metadata": {},
   "outputs": [
    {
     "data": {
      "text/plain": [
       "array([0, 0, 0, ..., 0, 0, 0])"
      ]
     },
     "execution_count": 43,
     "metadata": {},
     "output_type": "execute_result"
    }
   ],
   "source": [
    "y_test"
   ]
  },
  {
   "cell_type": "code",
   "execution_count": 44,
   "id": "09555bef-d2da-4590-8101-8601667186ae",
   "metadata": {},
   "outputs": [
    {
     "data": {
      "text/plain": [
       "(None, 2)"
      ]
     },
     "execution_count": 44,
     "metadata": {},
     "output_type": "execute_result"
    }
   ],
   "source": [
    "birnn.output_shape"
   ]
  },
  {
   "cell_type": "code",
   "execution_count": 45,
   "id": "539072f0-89da-49b8-97af-6a11525d5c2f",
   "metadata": {},
   "outputs": [
    {
     "data": {
      "text/plain": [
       "array([0, 0, 0, ..., 0, 0, 0])"
      ]
     },
     "execution_count": 45,
     "metadata": {},
     "output_type": "execute_result"
    }
   ],
   "source": [
    "labels=test_df['label'].values\n",
    "labels"
   ]
  },
  {
   "cell_type": "code",
   "execution_count": 46,
   "id": "09da7fc1-1d58-4384-a435-2f6de341e882",
   "metadata": {},
   "outputs": [
    {
     "name": "stdout",
     "output_type": "stream",
     "text": [
      "\u001b[1m313/313\u001b[0m \u001b[32m━━━━━━━━━━━━━━━━━━━━\u001b[0m\u001b[37m\u001b[0m \u001b[1m16s\u001b[0m 51ms/step\n"
     ]
    }
   ],
   "source": [
    "prediction_gru=gru.predict(x_train_pad,batch_size=128)"
   ]
  },
  {
   "cell_type": "code",
   "execution_count": 47,
   "id": "c25c155b-8b54-4ba1-8ba9-aa44b11a449e",
   "metadata": {},
   "outputs": [],
   "source": [
    "prediction_gru=np.argmax(prediction_gru,axis=1)"
   ]
  },
  {
   "cell_type": "code",
   "execution_count": 49,
   "id": "fada1374-c245-414d-9fd9-a3c205cbe534",
   "metadata": {},
   "outputs": [],
   "source": [
    "prediction_gru\n",
    "corr_pred=sum([prediction_gru[i]==labels[i] for i in range(len(labels))])\n",
    "gru_accuracy=corr_pred/len(labels)"
   ]
  },
  {
   "cell_type": "code",
   "execution_count": 50,
   "id": "a17b31de-81c1-4adb-97fa-0622c6c6e1a5",
   "metadata": {},
   "outputs": [
    {
     "data": {
      "text/plain": [
       "0.498"
      ]
     },
     "execution_count": 50,
     "metadata": {},
     "output_type": "execute_result"
    }
   ],
   "source": [
    "gru_accuracy"
   ]
  },
  {
   "cell_type": "code",
   "execution_count": 51,
   "id": "01170618-95c5-4481-9499-7f88b1d3445b",
   "metadata": {},
   "outputs": [
    {
     "name": "stdout",
     "output_type": "stream",
     "text": [
      "\u001b[1m40/40\u001b[0m \u001b[32m━━━━━━━━━━━━━━━━━━━━\u001b[0m\u001b[37m\u001b[0m \u001b[1m20s\u001b[0m 402ms/step\n"
     ]
    }
   ],
   "source": [
    "prediction_birnn=birnn.predict(x_test_pad,batch_size=128)\n"
   ]
  },
  {
   "cell_type": "code",
   "execution_count": 52,
   "id": "2be4f830-9d47-4115-9450-351f86c5bec1",
   "metadata": {},
   "outputs": [
    {
     "name": "stdout",
     "output_type": "stream",
     "text": [
      "The accuracy of the bi directional rnn is: 0.5138\n"
     ]
    }
   ],
   "source": [
    "prediction_birnn=np.argmax(prediction_birnn,axis=1)\n",
    "count_birnn=sum([prediction_birnn[i]==labels[i] for i in range(len(labels))])\n",
    "birnn_accuracy=count_birnn/len(labels)\n",
    "print('The accuracy of the bi directional rnn is:',birnn_accuracy)"
   ]
  },
  {
   "cell_type": "code",
   "execution_count": 53,
   "id": "72e5944c-f49a-4647-8c91-5068a2b29299",
   "metadata": {},
   "outputs": [
    {
     "name": "stdout",
     "output_type": "stream",
     "text": [
      "\u001b[1m40/40\u001b[0m \u001b[32m━━━━━━━━━━━━━━━━━━━━\u001b[0m\u001b[37m\u001b[0m \u001b[1m3s\u001b[0m 61ms/step\n"
     ]
    }
   ],
   "source": [
    "prediction_lstm=lstm.predict(x_test_pad,batch_size=128)"
   ]
  },
  {
   "cell_type": "code",
   "execution_count": 54,
   "id": "82f02448-64aa-40a7-b7c0-0925f9f8cb60",
   "metadata": {},
   "outputs": [
    {
     "name": "stdout",
     "output_type": "stream",
     "text": [
      "The accuracy of the bi directional rnn is: 0.8776\n"
     ]
    }
   ],
   "source": [
    "prediction_lstm=np.argmax(prediction_lstm,axis=1)\n",
    "count_lstm=sum([prediction_lstm[i]==labels[i] for i in range(len(labels))])\n",
    "lstm_accuracy=count_lstm/len(labels)\n",
    "print('The accuracy of the bi directional rnn is:',lstm_accuracy)"
   ]
  },
  {
   "cell_type": "code",
   "execution_count": 59,
   "id": "4f4c5bce-ab3f-4f5f-bb84-3175a1fbb17a",
   "metadata": {
    "scrolled": true
   },
   "outputs": [
    {
     "data": {
      "image/png": "[encoded data removed]",
      "text/plain": [
       "<Figure size 640x480 with 1 Axes>"
      ]
     },
     "metadata": {},
     "output_type": "display_data"
    },
    {
     "data": {
      "image/png": "[encoded data removed]",
      "text/plain": [
       "<Figure size 640x480 with 1 Axes>"
      ]
     },
     "metadata": {},
     "output_type": "display_data"
    },
    {
     "data": {
      "image/png": "[encoded data removed]",
      "text/plain": [
       "<Figure size 640x480 with 1 Axes>"
      ]
     },
     "metadata": {},
     "output_type": "display_data"
    }
   ],
   "source": [
    "plt.plot(his.history['loss'],label='Training Loss')\n",
    "plt.plot(his.history['val_loss'],label='Validation Loss')\n",
    "plt.xlabel('Epochs')\n",
    "plt.ylabel('Loss of LSTM')\n",
    "plt.legend()\n",
    "plt.show()\n",
    "\n",
    "plt.plot(his_gru.history['loss'],label='Training Loss')\n",
    "plt.plot(his_gru.history['val_loss'],label='Validation Loss')\n",
    "plt.xlabel('Epochs')\n",
    "plt.ylabel('Loss of GRU')\n",
    "plt.legend()\n",
    "plt.show()\n",
    "\n",
    "plt.plot(his_birnn.history['loss'],label='Training Loss')\n",
    "plt.plot(his_birnn.history['val_loss'],label='Validation Loss')\n",
    "plt.xlabel('Epochs')\n",
    "plt.ylabel('Loss of BiRNN')\n",
    "plt.legend()\n",
    "plt.show()"
   ]
  },
  {
   "cell_type": "code",
   "execution_count": 60,
   "id": "24ccb43b-810e-4f8a-af33-1db1c367fbcc",
   "metadata": {},
   "outputs": [],
   "source": [
    "rslt=[]\n",
    "\n",
    "rslt.append([\n",
    "    'LSTM Model',\n",
    "    np.array(np.mean(his.history['loss'])),\n",
    "    np.array(np.mean(his.history['val_loss'])),\n",
    "    np.array(np.mean(his.history['accuracy'])),\n",
    "    np.array(np.mean(his.history['val_accuracy'])),\n",
    "    np.array(lstm_accuracy)\n",
    "])\n",
    "\n",
    "rslt.append([\n",
    "    'GRU Model',\n",
    "    np.array(np.mean(his_gru.history['loss'])),\n",
    "    np.array(np.mean(his_gru.history['val_loss'])),\n",
    "    np.array(np.mean(his_gru.history['accuracy'])),\n",
    "    np.array(np.mean(his_gru.history['val_accuracy'])),\n",
    "    np.array(gru_accuracy)\n",
    "])\n",
    "\n",
    "rslt.append([\n",
    "    'BIdirectioaalRNN Model',\n",
    "    np.array(np.mean(his_birnn.history['loss'])),\n",
    "    np.array(np.mean(his_birnn.history['val_loss'])),\n",
    "    np.array(np.mean(his_birnn.history['accuracy'])),\n",
    "    np.array(np.mean(his_birnn.history['val_accuracy'])),\n",
    "    np.array(birnn_accuracy)\n",
    "])\n",
    "\n",
    "columns=['model','Mean Training Loss','Mean Validation Loss','Mean Training Accuract','Mean Validation Accuracy','Accuracy ']\n",
    "rslt_df=pd.DataFrame(rslt,columns=columns)"
   ]
  },
  {
   "cell_type": "code",
   "execution_count": 61,
   "id": "5cb31970-c69d-44b3-8b6b-c6d2472de50e",
   "metadata": {},
   "outputs": [
    {
     "data": {
      "text/html": [
       "<div>\n",
       "<style scoped>\n",
       "    .dataframe tbody tr th:only-of-type {\n",
       "        vertical-align: middle;\n",
       "    }\n",
       "\n",
       "    .dataframe tbody tr th {\n",
       "        vertical-align: top;\n",
       "    }\n",
       "\n",
       "    .dataframe thead th {\n",
       "        text-align: right;\n",
       "    }\n",
       "</style>\n",
       "<table border=\"1\" class=\"dataframe\">\n",
       "  <thead>\n",
       "    <tr style=\"text-align: right;\">\n",
       "      <th></th>\n",
       "      <th>model</th>\n",
       "      <th>Mean Training Loss</th>\n",
       "      <th>Mean Validation Loss</th>\n",
       "      <th>Mean Training Accuract</th>\n",
       "      <th>Mean Validation Accuracy</th>\n",
       "      <th>Accuracy</th>\n",
       "    </tr>\n",
       "  </thead>\n",
       "  <tbody>\n",
       "    <tr>\n",
       "      <th>0</th>\n",
       "      <td>LSTM Model</td>\n",
       "      <td>0.2912287190556526</td>\n",
       "      <td>0.3614629879593849</td>\n",
       "      <td>0.8721218705177307</td>\n",
       "      <td>0.8462250009179115</td>\n",
       "      <td>0.8776</td>\n",
       "    </tr>\n",
       "    <tr>\n",
       "      <th>1</th>\n",
       "      <td>GRU Model</td>\n",
       "      <td>0.22775554284453392</td>\n",
       "      <td>0.30966345220804214</td>\n",
       "      <td>0.9060937464237213</td>\n",
       "      <td>0.8901499956846237</td>\n",
       "      <td>0.498</td>\n",
       "    </tr>\n",
       "    <tr>\n",
       "      <th>2</th>\n",
       "      <td>BIdirectioaalRNN Model</td>\n",
       "      <td>0.6133548021316528</td>\n",
       "      <td>1.170201559861501</td>\n",
       "      <td>0.6337416569391886</td>\n",
       "      <td>0.5043333371480306</td>\n",
       "      <td>0.5138</td>\n",
       "    </tr>\n",
       "  </tbody>\n",
       "</table>\n",
       "</div>"
      ],
      "text/plain": [
       "                    model   Mean Training Loss Mean Validation Loss  \\\n",
       "0              LSTM Model   0.2912287190556526   0.3614629879593849   \n",
       "1               GRU Model  0.22775554284453392  0.30966345220804214   \n",
       "2  BIdirectioaalRNN Model   0.6133548021316528    1.170201559861501   \n",
       "\n",
       "  Mean Training Accuract Mean Validation Accuracy Accuracy   \n",
       "0     0.8721218705177307       0.8462250009179115    0.8776  \n",
       "1     0.9060937464237213       0.8901499956846237     0.498  \n",
       "2     0.6337416569391886       0.5043333371480306    0.5138  "
      ]
     },
     "execution_count": 61,
     "metadata": {},
     "output_type": "execute_result"
    }
   ],
   "source": [
    "rslt_df"
   ]
  },
  {
   "cell_type": "markdown",
   "id": "9a28f6e7-0804-4586-8a86-b284655d9a70",
   "metadata": {},
   "source": [
    "## LSTM has the highest Accuracy of 87%"
   ]
  },
  {
   "cell_type": "code",
   "execution_count": null,
   "id": "e4ffdafa-c893-4081-9a6b-28ab6ac7042c",
   "metadata": {},
   "outputs": [],
   "source": []
  }
 ],
 "metadata": {
  "kernelspec": {
   "display_name": "Python 3 (ipykernel)",
   "language": "python",
   "name": "python3"
  },
  "language_info": {
   "codemirror_mode": {
    "name": "ipython",
    "version": 3
   },
   "file_extension": ".py",
   "mimetype": "text/x-python",
   "name": "python",
   "nbconvert_exporter": "python",
   "pygments_lexer": "ipython3",
   "version": "3.9.18"
  }
 },
 "nbformat": 4,
 "nbformat_minor": 5
}
